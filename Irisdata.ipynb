{
 "cells": [
  {
   "cell_type": "markdown",
   "id": "14f8db68",
   "metadata": {
    "papermill": {
     "duration": 0.008205,
     "end_time": "2024-01-21T18:28:28.868316",
     "exception": false,
     "start_time": "2024-01-21T18:28:28.860111",
     "status": "completed"
    },
    "tags": []
   },
   "source": [
    "# **I- Jeux de données :**"
   ]
  },
  {
   "cell_type": "code",
   "execution_count": 1,
   "id": "b2340452",
   "metadata": {
    "_cell_guid": "b1076dfc-b9ad-4769-8c92-a6c4dae69d19",
    "_uuid": "8f2839f25d086af736a60e9eeb907d3b93b6e0e5",
    "execution": {
     "iopub.execute_input": "2024-01-21T18:28:28.885983Z",
     "iopub.status.busy": "2024-01-21T18:28:28.884966Z",
     "iopub.status.idle": "2024-01-21T18:28:29.839997Z",
     "shell.execute_reply": "2024-01-21T18:28:29.839183Z"
    },
    "papermill": {
     "duration": 0.966989,
     "end_time": "2024-01-21T18:28:29.842969",
     "exception": false,
     "start_time": "2024-01-21T18:28:28.875980",
     "status": "completed"
    },
    "tags": []
   },
   "outputs": [
    {
     "name": "stderr",
     "output_type": "stream",
     "text": [
      "/opt/conda/lib/python3.10/site-packages/scipy/__init__.py:146: UserWarning: A NumPy version >=1.16.5 and <1.23.0 is required for this version of SciPy (detected version 1.24.3\n",
      "  warnings.warn(f\"A NumPy version >={np_minversion} and <{np_maxversion}\"\n"
     ]
    }
   ],
   "source": [
    "from sklearn import datasets,naive_bayes\n",
    "from collections import Counter\n",
    "import numpy\n",
    "import random\n",
    "import matplotlib\n",
    "import pylab as pl\n",
    "from itertools import cycle"
   ]
  },
  {
   "cell_type": "code",
   "execution_count": 2,
   "id": "88a96b32",
   "metadata": {
    "execution": {
     "iopub.execute_input": "2024-01-21T18:28:29.861275Z",
     "iopub.status.busy": "2024-01-21T18:28:29.860516Z",
     "iopub.status.idle": "2024-01-21T18:28:29.878852Z",
     "shell.execute_reply": "2024-01-21T18:28:29.877374Z"
    },
    "papermill": {
     "duration": 0.030175,
     "end_time": "2024-01-21T18:28:29.881830",
     "exception": false,
     "start_time": "2024-01-21T18:28:29.851655",
     "status": "completed"
    },
    "tags": []
   },
   "outputs": [
    {
     "name": "stdout",
     "output_type": "stream",
     "text": [
      "['sepal length (cm)', 'sepal width (cm)', 'petal length (cm)', 'petal width (cm)']\n",
      "[[5.1 3.5 1.4 0.2]\n",
      " [4.9 3.  1.4 0.2]\n",
      " [4.7 3.2 1.3 0.2]\n",
      " [4.6 3.1 1.5 0.2]\n",
      " [5.  3.6 1.4 0.2]\n",
      " [5.4 3.9 1.7 0.4]\n",
      " [4.6 3.4 1.4 0.3]\n",
      " [5.  3.4 1.5 0.2]\n",
      " [4.4 2.9 1.4 0.2]\n",
      " [4.9 3.1 1.5 0.1]\n",
      " [5.4 3.7 1.5 0.2]\n",
      " [4.8 3.4 1.6 0.2]\n",
      " [4.8 3.  1.4 0.1]\n",
      " [4.3 3.  1.1 0.1]\n",
      " [5.8 4.  1.2 0.2]\n",
      " [5.7 4.4 1.5 0.4]\n",
      " [5.4 3.9 1.3 0.4]\n",
      " [5.1 3.5 1.4 0.3]\n",
      " [5.7 3.8 1.7 0.3]\n",
      " [5.1 3.8 1.5 0.3]\n",
      " [5.4 3.4 1.7 0.2]\n",
      " [5.1 3.7 1.5 0.4]\n",
      " [4.6 3.6 1.  0.2]\n",
      " [5.1 3.3 1.7 0.5]\n",
      " [4.8 3.4 1.9 0.2]\n",
      " [5.  3.  1.6 0.2]\n",
      " [5.  3.4 1.6 0.4]\n",
      " [5.2 3.5 1.5 0.2]\n",
      " [5.2 3.4 1.4 0.2]\n",
      " [4.7 3.2 1.6 0.2]\n",
      " [4.8 3.1 1.6 0.2]\n",
      " [5.4 3.4 1.5 0.4]\n",
      " [5.2 4.1 1.5 0.1]\n",
      " [5.5 4.2 1.4 0.2]\n",
      " [4.9 3.1 1.5 0.2]\n",
      " [5.  3.2 1.2 0.2]\n",
      " [5.5 3.5 1.3 0.2]\n",
      " [4.9 3.6 1.4 0.1]\n",
      " [4.4 3.  1.3 0.2]\n",
      " [5.1 3.4 1.5 0.2]\n",
      " [5.  3.5 1.3 0.3]\n",
      " [4.5 2.3 1.3 0.3]\n",
      " [4.4 3.2 1.3 0.2]\n",
      " [5.  3.5 1.6 0.6]\n",
      " [5.1 3.8 1.9 0.4]\n",
      " [4.8 3.  1.4 0.3]\n",
      " [5.1 3.8 1.6 0.2]\n",
      " [4.6 3.2 1.4 0.2]\n",
      " [5.3 3.7 1.5 0.2]\n",
      " [5.  3.3 1.4 0.2]\n",
      " [7.  3.2 4.7 1.4]\n",
      " [6.4 3.2 4.5 1.5]\n",
      " [6.9 3.1 4.9 1.5]\n",
      " [5.5 2.3 4.  1.3]\n",
      " [6.5 2.8 4.6 1.5]\n",
      " [5.7 2.8 4.5 1.3]\n",
      " [6.3 3.3 4.7 1.6]\n",
      " [4.9 2.4 3.3 1. ]\n",
      " [6.6 2.9 4.6 1.3]\n",
      " [5.2 2.7 3.9 1.4]\n",
      " [5.  2.  3.5 1. ]\n",
      " [5.9 3.  4.2 1.5]\n",
      " [6.  2.2 4.  1. ]\n",
      " [6.1 2.9 4.7 1.4]\n",
      " [5.6 2.9 3.6 1.3]\n",
      " [6.7 3.1 4.4 1.4]\n",
      " [5.6 3.  4.5 1.5]\n",
      " [5.8 2.7 4.1 1. ]\n",
      " [6.2 2.2 4.5 1.5]\n",
      " [5.6 2.5 3.9 1.1]\n",
      " [5.9 3.2 4.8 1.8]\n",
      " [6.1 2.8 4.  1.3]\n",
      " [6.3 2.5 4.9 1.5]\n",
      " [6.1 2.8 4.7 1.2]\n",
      " [6.4 2.9 4.3 1.3]\n",
      " [6.6 3.  4.4 1.4]\n",
      " [6.8 2.8 4.8 1.4]\n",
      " [6.7 3.  5.  1.7]\n",
      " [6.  2.9 4.5 1.5]\n",
      " [5.7 2.6 3.5 1. ]\n",
      " [5.5 2.4 3.8 1.1]\n",
      " [5.5 2.4 3.7 1. ]\n",
      " [5.8 2.7 3.9 1.2]\n",
      " [6.  2.7 5.1 1.6]\n",
      " [5.4 3.  4.5 1.5]\n",
      " [6.  3.4 4.5 1.6]\n",
      " [6.7 3.1 4.7 1.5]\n",
      " [6.3 2.3 4.4 1.3]\n",
      " [5.6 3.  4.1 1.3]\n",
      " [5.5 2.5 4.  1.3]\n",
      " [5.5 2.6 4.4 1.2]\n",
      " [6.1 3.  4.6 1.4]\n",
      " [5.8 2.6 4.  1.2]\n",
      " [5.  2.3 3.3 1. ]\n",
      " [5.6 2.7 4.2 1.3]\n",
      " [5.7 3.  4.2 1.2]\n",
      " [5.7 2.9 4.2 1.3]\n",
      " [6.2 2.9 4.3 1.3]\n",
      " [5.1 2.5 3.  1.1]\n",
      " [5.7 2.8 4.1 1.3]\n",
      " [6.3 3.3 6.  2.5]\n",
      " [5.8 2.7 5.1 1.9]\n",
      " [7.1 3.  5.9 2.1]\n",
      " [6.3 2.9 5.6 1.8]\n",
      " [6.5 3.  5.8 2.2]\n",
      " [7.6 3.  6.6 2.1]\n",
      " [4.9 2.5 4.5 1.7]\n",
      " [7.3 2.9 6.3 1.8]\n",
      " [6.7 2.5 5.8 1.8]\n",
      " [7.2 3.6 6.1 2.5]\n",
      " [6.5 3.2 5.1 2. ]\n",
      " [6.4 2.7 5.3 1.9]\n",
      " [6.8 3.  5.5 2.1]\n",
      " [5.7 2.5 5.  2. ]\n",
      " [5.8 2.8 5.1 2.4]\n",
      " [6.4 3.2 5.3 2.3]\n",
      " [6.5 3.  5.5 1.8]\n",
      " [7.7 3.8 6.7 2.2]\n",
      " [7.7 2.6 6.9 2.3]\n",
      " [6.  2.2 5.  1.5]\n",
      " [6.9 3.2 5.7 2.3]\n",
      " [5.6 2.8 4.9 2. ]\n",
      " [7.7 2.8 6.7 2. ]\n",
      " [6.3 2.7 4.9 1.8]\n",
      " [6.7 3.3 5.7 2.1]\n",
      " [7.2 3.2 6.  1.8]\n",
      " [6.2 2.8 4.8 1.8]\n",
      " [6.1 3.  4.9 1.8]\n",
      " [6.4 2.8 5.6 2.1]\n",
      " [7.2 3.  5.8 1.6]\n",
      " [7.4 2.8 6.1 1.9]\n",
      " [7.9 3.8 6.4 2. ]\n",
      " [6.4 2.8 5.6 2.2]\n",
      " [6.3 2.8 5.1 1.5]\n",
      " [6.1 2.6 5.6 1.4]\n",
      " [7.7 3.  6.1 2.3]\n",
      " [6.3 3.4 5.6 2.4]\n",
      " [6.4 3.1 5.5 1.8]\n",
      " [6.  3.  4.8 1.8]\n",
      " [6.9 3.1 5.4 2.1]\n",
      " [6.7 3.1 5.6 2.4]\n",
      " [6.9 3.1 5.1 2.3]\n",
      " [5.8 2.7 5.1 1.9]\n",
      " [6.8 3.2 5.9 2.3]\n",
      " [6.7 3.3 5.7 2.5]\n",
      " [6.7 3.  5.2 2.3]\n",
      " [6.3 2.5 5.  1.9]\n",
      " [6.5 3.  5.2 2. ]\n",
      " [6.2 3.4 5.4 2.3]\n",
      " [5.9 3.  5.1 1.8]]\n",
      "['setosa' 'versicolor' 'virginica']\n",
      "[0 0 0 0 0 0 0 0 0 0 0 0 0 0 0 0 0 0 0 0 0 0 0 0 0 0 0 0 0 0 0 0 0 0 0 0 0\n",
      " 0 0 0 0 0 0 0 0 0 0 0 0 0 1 1 1 1 1 1 1 1 1 1 1 1 1 1 1 1 1 1 1 1 1 1 1 1\n",
      " 1 1 1 1 1 1 1 1 1 1 1 1 1 1 1 1 1 1 1 1 1 1 1 1 1 1 2 2 2 2 2 2 2 2 2 2 2\n",
      " 2 2 2 2 2 2 2 2 2 2 2 2 2 2 2 2 2 2 2 2 2 2 2 2 2 2 2 2 2 2 2 2 2 2 2 2 2\n",
      " 2 2]\n"
     ]
    }
   ],
   "source": [
    "irisData = datasets.load_iris()\n",
    "print (irisData.feature_names)\n",
    "print (irisData.data)\n",
    "print (irisData.target_names)\n",
    "print (irisData.target)\n",
    "\n"
   ]
  },
  {
   "cell_type": "code",
   "execution_count": 3,
   "id": "a8b7f203",
   "metadata": {
    "execution": {
     "iopub.execute_input": "2024-01-21T18:28:29.900048Z",
     "iopub.status.busy": "2024-01-21T18:28:29.899747Z",
     "iopub.status.idle": "2024-01-21T18:28:29.906073Z",
     "shell.execute_reply": "2024-01-21T18:28:29.905276Z"
    },
    "papermill": {
     "duration": 0.017551,
     "end_time": "2024-01-21T18:28:29.907977",
     "exception": false,
     "start_time": "2024-01-21T18:28:29.890426",
     "status": "completed"
    },
    "tags": []
   },
   "outputs": [
    {
     "data": {
      "text/plain": [
       "(150, 4)"
      ]
     },
     "execution_count": 3,
     "metadata": {},
     "output_type": "execute_result"
    }
   ],
   "source": [
    "irisData.data.shape"
   ]
  },
  {
   "cell_type": "code",
   "execution_count": 4,
   "id": "8ddc49a5",
   "metadata": {
    "execution": {
     "iopub.execute_input": "2024-01-21T18:28:29.926193Z",
     "iopub.status.busy": "2024-01-21T18:28:29.925943Z",
     "iopub.status.idle": "2024-01-21T18:28:29.932288Z",
     "shell.execute_reply": "2024-01-21T18:28:29.931324Z"
    },
    "papermill": {
     "duration": 0.018437,
     "end_time": "2024-01-21T18:28:29.934773",
     "exception": false,
     "start_time": "2024-01-21T18:28:29.916336",
     "status": "completed"
    },
    "tags": []
   },
   "outputs": [
    {
     "name": "stdout",
     "output_type": "stream",
     "text": [
      "Setosa:  50\n",
      "versicolor: 50\n",
      "virginica: 50\n"
     ]
    }
   ],
   "source": [
    "print(\"Setosa: \",len(irisData.target[irisData.target ==0]))\n",
    "print(\"versicolor:\",  len(irisData.target[irisData.target ==1]))\n",
    "print(\"virginica:\",len(irisData.target[irisData.target ==2]))"
   ]
  },
  {
   "cell_type": "code",
   "execution_count": 5,
   "id": "479d0c4a",
   "metadata": {
    "execution": {
     "iopub.execute_input": "2024-01-21T18:28:29.953071Z",
     "iopub.status.busy": "2024-01-21T18:28:29.952811Z",
     "iopub.status.idle": "2024-01-21T18:28:29.957096Z",
     "shell.execute_reply": "2024-01-21T18:28:29.956301Z"
    },
    "papermill": {
     "duration": 0.015375,
     "end_time": "2024-01-21T18:28:29.959253",
     "exception": false,
     "start_time": "2024-01-21T18:28:29.943878",
     "status": "completed"
    },
    "tags": []
   },
   "outputs": [
    {
     "name": "stdout",
     "output_type": "stream",
     "text": [
      "Counter({0: 50, 1: 50, 2: 50})\n"
     ]
    }
   ],
   "source": [
    "print(Counter(irisData.target))"
   ]
  },
  {
   "cell_type": "code",
   "execution_count": 6,
   "id": "11ed3287",
   "metadata": {
    "execution": {
     "iopub.execute_input": "2024-01-21T18:28:29.977763Z",
     "iopub.status.busy": "2024-01-21T18:28:29.977470Z",
     "iopub.status.idle": "2024-01-21T18:28:29.983262Z",
     "shell.execute_reply": "2024-01-21T18:28:29.982425Z"
    },
    "papermill": {
     "duration": 0.017517,
     "end_time": "2024-01-21T18:28:29.985178",
     "exception": false,
     "start_time": "2024-01-21T18:28:29.967661",
     "status": "completed"
    },
    "tags": []
   },
   "outputs": [
    {
     "data": {
      "text/plain": [
       "array([5.4, 3.4, 1.5, 0.4])"
      ]
     },
     "execution_count": 6,
     "metadata": {},
     "output_type": "execute_result"
    }
   ],
   "source": [
    "irisData.data[31]"
   ]
  },
  {
   "cell_type": "code",
   "execution_count": 7,
   "id": "44a68947",
   "metadata": {
    "execution": {
     "iopub.execute_input": "2024-01-21T18:28:30.004351Z",
     "iopub.status.busy": "2024-01-21T18:28:30.004092Z",
     "iopub.status.idle": "2024-01-21T18:28:30.009867Z",
     "shell.execute_reply": "2024-01-21T18:28:30.008987Z"
    },
    "papermill": {
     "duration": 0.018072,
     "end_time": "2024-01-21T18:28:30.012015",
     "exception": false,
     "start_time": "2024-01-21T18:28:29.993943",
     "status": "completed"
    },
    "tags": []
   },
   "outputs": [
    {
     "data": {
      "text/plain": [
       "array([0, 0, 0, 0, 0, 0, 0, 0, 0, 0, 0, 0, 0, 0, 0, 0, 0, 0, 0, 0, 0, 0,\n",
       "       0, 0, 0, 0, 0, 0, 0, 0, 0])"
      ]
     },
     "execution_count": 7,
     "metadata": {},
     "output_type": "execute_result"
    }
   ],
   "source": [
    "irisData.target[0:31]"
   ]
  },
  {
   "cell_type": "code",
   "execution_count": 8,
   "id": "b58773ca",
   "metadata": {
    "execution": {
     "iopub.execute_input": "2024-01-21T18:28:30.032420Z",
     "iopub.status.busy": "2024-01-21T18:28:30.032132Z",
     "iopub.status.idle": "2024-01-21T18:28:30.038297Z",
     "shell.execute_reply": "2024-01-21T18:28:30.037477Z"
    },
    "papermill": {
     "duration": 0.018626,
     "end_time": "2024-01-21T18:28:30.040210",
     "exception": false,
     "start_time": "2024-01-21T18:28:30.021584",
     "status": "completed"
    },
    "tags": []
   },
   "outputs": [],
   "source": [
    "def plot_2D(data, target, target_names):\n",
    "    colors = cycle('rgbcmykw') # cycle de couleurs\n",
    "    target_ids = range(len(target_names))\n",
    "    pl.figure()\n",
    "    for i, c, label in zip(target_ids, colors, target_names):\n",
    "        pl.scatter(data[target == i, 2], data[target == i, 3], c=c, label=label)\n",
    "\n",
    "    pl.plot([2.5,2.5], [0,3])\n",
    "    pl.plot([0.75,7], [0.75,0.75], 'b--')\n",
    "    pl.legend()\n",
    "    pl.show()"
   ]
  },
  {
   "cell_type": "code",
   "execution_count": 9,
   "id": "730881f0",
   "metadata": {
    "execution": {
     "iopub.execute_input": "2024-01-21T18:28:30.059058Z",
     "iopub.status.busy": "2024-01-21T18:28:30.058799Z",
     "iopub.status.idle": "2024-01-21T18:28:30.406068Z",
     "shell.execute_reply": "2024-01-21T18:28:30.405161Z"
    },
    "papermill": {
     "duration": 0.358908,
     "end_time": "2024-01-21T18:28:30.408048",
     "exception": false,
     "start_time": "2024-01-21T18:28:30.049140",
     "status": "completed"
    },
    "tags": []
   },
   "outputs": [
    {
     "data": {
      "image/png": "[encoded data removed]",
      "text/plain": [
       "<Figure size 640x480 with 1 Axes>"
      ]
     },
     "metadata": {},
     "output_type": "display_data"
    }
   ],
   "source": [
    "plot_2D(irisData.data, irisData.target, irisData.target_names)"
   ]
  },
  {
   "cell_type": "markdown",
   "id": "2380041a",
   "metadata": {
    "papermill": {
     "duration": 0.009069,
     "end_time": "2024-01-21T18:28:30.426474",
     "exception": false,
     "start_time": "2024-01-21T18:28:30.417405",
     "status": "completed"
    },
    "tags": []
   },
   "source": [
    "# **II- Un premier apprentissage de classiffieur :**"
   ]
  },
  {
   "cell_type": "code",
   "execution_count": 10,
   "id": "fcd8b462",
   "metadata": {
    "execution": {
     "iopub.execute_input": "2024-01-21T18:28:30.445913Z",
     "iopub.status.busy": "2024-01-21T18:28:30.445587Z",
     "iopub.status.idle": "2024-01-21T18:28:30.457431Z",
     "shell.execute_reply": "2024-01-21T18:28:30.456330Z"
    },
    "papermill": {
     "duration": 0.023867,
     "end_time": "2024-01-21T18:28:30.459395",
     "exception": false,
     "start_time": "2024-01-21T18:28:30.435528",
     "status": "completed"
    },
    "tags": []
   },
   "outputs": [
    {
     "name": "stdout",
     "output_type": "stream",
     "text": [
      "[0]\n",
      "[2]\n",
      "[0 0 0 0 0 0 0 0 0 0 0 0 0 0 0 0 0 0 0 0 0 0 0 0 0 0 0 0 0 0 0 0 0 0 0 0 0\n",
      " 0 0 0 0 0 0 0 0 0 0 0 0 0 1 1 1 1 1 1 1 1 1 1 1 1 1 1 1 1 1 1 2 1 2 1 2 1\n",
      " 1 1 1 1 1 1 1 1 1 2 1 1 1 1 1 1 1 1 1 1 1 1 1 1 1 1 2 2 2 2 2 2 2 2 2 2 2\n",
      " 2 2 2 2 2 2 2 2 2 2 2 2 2 2 2 2 2 2 1 2 1 2 1 2 2 2 2 2 2 2 2 2 2 2 2 2 2\n",
      " 2 2]\n"
     ]
    }
   ],
   "source": [
    "nb = naive_bayes.MultinomialNB(fit_prior=True)# un algo d'apprentissage\n",
    "nb.fit(irisData.data[:], irisData.target[:])\n",
    "p31 = nb.predict(irisData.data[[31]])\n",
    "print (p31)\n",
    "plast = nb.predict(irisData.data[[-1]])\n",
    "print (plast)\n",
    "p = nb.predict(irisData.data[:])\n",
    "print (p)"
   ]
  },
  {
   "cell_type": "code",
   "execution_count": 11,
   "id": "83a843a0",
   "metadata": {
    "execution": {
     "iopub.execute_input": "2024-01-21T18:28:30.479252Z",
     "iopub.status.busy": "2024-01-21T18:28:30.478982Z",
     "iopub.status.idle": "2024-01-21T18:28:30.488334Z",
     "shell.execute_reply": "2024-01-21T18:28:30.487476Z"
    },
    "papermill": {
     "duration": 0.021359,
     "end_time": "2024-01-21T18:28:30.490298",
     "exception": false,
     "start_time": "2024-01-21T18:28:30.468939",
     "status": "completed"
    },
    "tags": []
   },
   "outputs": [
    {
     "data": {
      "text/plain": [
       "array([1, 1, 1, 1, 1, 1, 1, 1, 1, 1, 1, 1, 1, 1, 1, 1, 1, 1, 1, 1, 1, 1,\n",
       "       1, 1, 1, 1, 1, 1, 1, 1, 1, 1, 1, 1, 1, 1, 1, 1, 1, 1, 1, 1, 1, 1,\n",
       "       1, 1, 1, 1, 1])"
      ]
     },
     "execution_count": 11,
     "metadata": {},
     "output_type": "execute_result"
    }
   ],
   "source": [
    "nb = naive_bayes.MultinomialNB(fit_prior=True)\n",
    "nb.fit(irisData.data[:99], irisData.target[:99])\n",
    "nb.predict(irisData.data[100:149])"
   ]
  },
  {
   "cell_type": "markdown",
   "id": "21ea2847",
   "metadata": {
    "papermill": {
     "duration": 0.009395,
     "end_time": "2024-01-21T18:28:30.509037",
     "exception": false,
     "start_time": "2024-01-21T18:28:30.499642",
     "status": "completed"
    },
    "tags": []
   },
   "source": [
    "# **III- Evaluer les performances d'un classiffieur :**\n",
    "\n",
    "**1. Performances sur l\"nsemble d'apprentissage**"
   ]
  },
  {
   "cell_type": "code",
   "execution_count": 12,
   "id": "ca422bf7",
   "metadata": {
    "execution": {
     "iopub.execute_input": "2024-01-21T18:28:30.529058Z",
     "iopub.status.busy": "2024-01-21T18:28:30.528814Z",
     "iopub.status.idle": "2024-01-21T18:28:30.534148Z",
     "shell.execute_reply": "2024-01-21T18:28:30.533336Z"
    },
    "papermill": {
     "duration": 0.017712,
     "end_time": "2024-01-21T18:28:30.536294",
     "exception": false,
     "start_time": "2024-01-21T18:28:30.518582",
     "status": "completed"
    },
    "tags": []
   },
   "outputs": [
    {
     "name": "stdout",
     "output_type": "stream",
     "text": [
      "7\n",
      "0.04666666666666667\n"
     ]
    }
   ],
   "source": [
    "ea = 0\n",
    "for i in range(len(irisData.data)):\n",
    "    if (p[i] != irisData.target[i]):\n",
    "        ea = ea+1\n",
    "print(ea)\n",
    "print (ea/len(irisData.data))"
   ]
  },
  {
   "cell_type": "code",
   "execution_count": 13,
   "id": "c9b4aa4f",
   "metadata": {
    "execution": {
     "iopub.execute_input": "2024-01-21T18:28:30.556426Z",
     "iopub.status.busy": "2024-01-21T18:28:30.556178Z",
     "iopub.status.idle": "2024-01-21T18:28:30.561683Z",
     "shell.execute_reply": "2024-01-21T18:28:30.560869Z"
    },
    "papermill": {
     "duration": 0.017734,
     "end_time": "2024-01-21T18:28:30.563683",
     "exception": false,
     "start_time": "2024-01-21T18:28:30.545949",
     "status": "completed"
    },
    "tags": []
   },
   "outputs": [
    {
     "data": {
      "text/plain": [
       "(array([ 68,  70,  72,  83, 129, 131, 133]),)"
      ]
     },
     "execution_count": 13,
     "metadata": {},
     "output_type": "execute_result"
    }
   ],
   "source": [
    "numpy.nonzero(p-irisData.target)"
   ]
  },
  {
   "cell_type": "code",
   "execution_count": 14,
   "id": "930d2ad1",
   "metadata": {
    "execution": {
     "iopub.execute_input": "2024-01-21T18:28:30.584695Z",
     "iopub.status.busy": "2024-01-21T18:28:30.584407Z",
     "iopub.status.idle": "2024-01-21T18:28:30.657568Z",
     "shell.execute_reply": "2024-01-21T18:28:30.656617Z"
    },
    "papermill": {
     "duration": 0.085544,
     "end_time": "2024-01-21T18:28:30.659574",
     "exception": false,
     "start_time": "2024-01-21T18:28:30.574030",
     "status": "completed"
    },
    "tags": []
   },
   "outputs": [
    {
     "data": {
      "text/plain": [
       "0.6666666666666666"
      ]
     },
     "execution_count": 14,
     "metadata": {},
     "output_type": "execute_result"
    }
   ],
   "source": [
    "nb.score(irisData.data,irisData.target)\n"
   ]
  },
  {
   "cell_type": "markdown",
   "id": "b6e9fa84",
   "metadata": {
    "papermill": {
     "duration": 0.009755,
     "end_time": "2024-01-21T18:28:30.679513",
     "exception": false,
     "start_time": "2024-01-21T18:28:30.669758",
     "status": "completed"
    },
    "tags": []
   },
   "source": [
    "**2. Performances en généralisation**\n",
    "\n",
    "***2.1 Test Split***"
   ]
  },
  {
   "cell_type": "code",
   "execution_count": 15,
   "id": "7e1296f9",
   "metadata": {
    "execution": {
     "iopub.execute_input": "2024-01-21T18:28:30.700969Z",
     "iopub.status.busy": "2024-01-21T18:28:30.700697Z",
     "iopub.status.idle": "2024-01-21T18:28:30.708015Z",
     "shell.execute_reply": "2024-01-21T18:28:30.707204Z"
    },
    "papermill": {
     "duration": 0.020654,
     "end_time": "2024-01-21T18:28:30.710040",
     "exception": false,
     "start_time": "2024-01-21T18:28:30.689386",
     "status": "completed"
    },
    "tags": []
   },
   "outputs": [
    {
     "name": "stdout",
     "output_type": "stream",
     "text": [
      "Taille de S1 (data): 100\n",
      "Taille de S2 (data): 50\n"
     ]
    }
   ],
   "source": [
    "def split(S, size=2/3):\n",
    "    # Mélangez les indices de l'échantillon\n",
    "    indices = list(range(len(S.data)))\n",
    "    random.shuffle(indices)\n",
    "\n",
    "    # Calculez la taille de S1 en fonction de la taille spécifiée\n",
    "    size_s1 = int(size * len(indices))\n",
    "\n",
    "    # Divisez les indices en deux parties : indices_s1 et indices_s2\n",
    "    indices_s1 = indices[:size_s1]\n",
    "    indices_s2 = indices[size_s1:]\n",
    "\n",
    "    # Créez les ensembles de données S1 et S2 en utilisant les indices calculés\n",
    "    data_s1 = S.data[indices_s1]\n",
    "    target_s1 = S.target[indices_s1]\n",
    "    data_s2 = S.data[indices_s2]\n",
    "    target_s2 = S.target[indices_s2]\n",
    "\n",
    "    return [data_s1, target_s1, data_s2, target_s2]\n",
    "\n",
    "# Exemple d'utilisation avec irisData\n",
    "dataS1, targetS1, dataS2, targetS2 = split(irisData)\n",
    "\n",
    "# Vérification des tailles\n",
    "print(\"Taille de S1 (data):\", len(dataS1))\n",
    "print(\"Taille de S2 (data):\", len(dataS2))"
   ]
  },
  {
   "cell_type": "code",
   "execution_count": 16,
   "id": "fb4b6a90",
   "metadata": {
    "execution": {
     "iopub.execute_input": "2024-01-21T18:28:30.731458Z",
     "iopub.status.busy": "2024-01-21T18:28:30.730833Z",
     "iopub.status.idle": "2024-01-21T18:28:30.743272Z",
     "shell.execute_reply": "2024-01-21T18:28:30.742373Z"
    },
    "papermill": {
     "duration": 0.025055,
     "end_time": "2024-01-21T18:28:30.745126",
     "exception": false,
     "start_time": "2024-01-21T18:28:30.720071",
     "status": "completed"
    },
    "tags": []
   },
   "outputs": [],
   "source": [
    "from sklearn.model_selection import train_test_split\n",
    "from sklearn.utils import shuffle\n",
    "def splitV2(S, train_size=2/3):\n",
    "    data = S.data\n",
    "    target = S.target\n",
    "\n",
    "    # Shuffle the data randomly\n",
    "    data, target = shuffle(data, target)\n",
    "\n",
    "    # Split the shuffled data and labels into training and testing sets\n",
    "    dataS1, dataS2, targetS1, targetS2 = train_test_split(data, target, train_size=train_size, random_state=42)\n",
    "\n",
    "    return [dataS1, targetS1, dataS2, targetS2]"
   ]
  },
  {
   "cell_type": "code",
   "execution_count": 17,
   "id": "156ee01d",
   "metadata": {
    "execution": {
     "iopub.execute_input": "2024-01-21T18:28:30.766347Z",
     "iopub.status.busy": "2024-01-21T18:28:30.766074Z",
     "iopub.status.idle": "2024-01-21T18:28:30.775156Z",
     "shell.execute_reply": "2024-01-21T18:28:30.774217Z"
    },
    "papermill": {
     "duration": 0.021691,
     "end_time": "2024-01-21T18:28:30.776948",
     "exception": false,
     "start_time": "2024-01-21T18:28:30.755257",
     "status": "completed"
    },
    "tags": []
   },
   "outputs": [
    {
     "name": "stdout",
     "output_type": "stream",
     "text": [
      "Taux d'erreur estimé avec Naive Bayes en utilisant split: 0.07999999999999996\n"
     ]
    }
   ],
   "source": [
    "from sklearn.naive_bayes import GaussianNB\n",
    "\n",
    "def test(S, clf,split):\n",
    "    dataS1, targetS1, dataS2, targetS2 = split(S)\n",
    "    # Entraînez le modèle sur les données d'entraînement (S1)\n",
    "    clf.fit(dataS1, targetS1)\n",
    "\n",
    "    # Faites des prédictions sur les données de test (S2)\n",
    "    predictions = clf.predict(dataS2)\n",
    "\n",
    "    # Calculez le taux d'erreur en comparant les prédictions aux véritables étiquettes\n",
    "    error_rate = 1 - (predictions == targetS2).mean()\n",
    "\n",
    "    return error_rate\n",
    "\n",
    "clf = naive_bayes.MultinomialNB(fit_prior=True)\n",
    "error_rate = test(irisData, clf,split)\n",
    "\n",
    "print(\"Taux d'erreur estimé avec Naive Bayes en utilisant split:\", error_rate)\n",
    "\n"
   ]
  },
  {
   "cell_type": "code",
   "execution_count": 18,
   "id": "406f37d8",
   "metadata": {
    "execution": {
     "iopub.execute_input": "2024-01-21T18:28:30.799036Z",
     "iopub.status.busy": "2024-01-21T18:28:30.798519Z",
     "iopub.status.idle": "2024-01-21T18:30:24.822456Z",
     "shell.execute_reply": "2024-01-21T18:30:24.821491Z"
    },
    "papermill": {
     "duration": 114.096084,
     "end_time": "2024-01-21T18:30:24.883723",
     "exception": false,
     "start_time": "2024-01-21T18:28:30.787639",
     "status": "completed"
    },
    "tags": []
   },
   "outputs": [
    {
     "name": "stdout",
     "output_type": "stream",
     "text": [
      "Test Split: Training Set = 1/3\n",
      "Taux d'erreur moyen pour t=10: 0.238\n",
      "Taux d'erreur moyen pour t=50: 0.21120000000000005\n",
      "Taux d'erreur moyen pour t=100: 0.21260000000000004\n",
      "Taux d'erreur moyen pour t=200: 0.1885\n",
      "Taux d'erreur moyen pour t=500: 0.199\n",
      "Taux d'erreur moyen pour t=1000: 0.20218\n",
      "Test Split: Training Set = 1/10\n",
      "Taux d'erreur moyen pour t=10: 0.16666666666666666\n",
      "Taux d'erreur moyen pour t=50: 0.14933333333333332\n",
      "Taux d'erreur moyen pour t=100: 0.10866666666666663\n",
      "Taux d'erreur moyen pour t=200: 0.132\n",
      "Taux d'erreur moyen pour t=500: 0.11906666666666667\n",
      "Taux d'erreur moyen pour t=1000: 0.12233333333333331\n"
     ]
    }
   ],
   "source": [
    "import numpy as np\n",
    "def test_t(S, clf, t,split):\n",
    "    error_rates = []\n",
    "    for _ in range(t):\n",
    "        error_rate = test(S, clf,split)\n",
    "        error_rates.append(error_rate)\n",
    "    mean_error = np.mean(error_rates)\n",
    "    return mean_error, error_rates\n",
    "\n",
    "t_values = [10, 50, 100, 200, 500, 1000]\n",
    "repetitions = 20\n",
    "\n",
    "print(\"Test Split: Training Set = 1/3\")\n",
    "for t in t_values:\n",
    "    clf =  naive_bayes.MultinomialNB(fit_prior=True)\n",
    "    mean_errors = []\n",
    "    for _ in range(repetitions):\n",
    "        mean_error, _ = test_t(irisData, clf, t,split)\n",
    "        mean_errors.append(mean_error)\n",
    "    std_error = np.std(mean_errors)\n",
    "    print(f\"Taux d'erreur moyen pour t={t}: {mean_error}\")\n",
    "\n",
    "print(\"Test Split: Training Set = 1/10\")\n",
    "def split_9_10(S):\n",
    "    return split(S, size=9/10)\n",
    "\n",
    "for t in t_values:\n",
    "    clf =  naive_bayes.MultinomialNB(fit_prior=True)\n",
    "    mean_errors = []\n",
    "    for _ in range(repetitions):\n",
    "        mean_error, _ = test_t(irisData, clf, t,split_9_10)\n",
    "        mean_errors.append(mean_error)\n",
    "    std_error = np.std(mean_errors)\n",
    "    print(f\"Taux d'erreur moyen pour t={t}: {mean_error}\")\n"
   ]
  },
  {
   "cell_type": "code",
   "execution_count": 19,
   "id": "549b849a",
   "metadata": {
    "execution": {
     "iopub.execute_input": "2024-01-21T18:30:24.908252Z",
     "iopub.status.busy": "2024-01-21T18:30:24.907891Z",
     "iopub.status.idle": "2024-01-21T18:30:24.912492Z",
     "shell.execute_reply": "2024-01-21T18:30:24.911595Z"
    },
    "papermill": {
     "duration": 0.019088,
     "end_time": "2024-01-21T18:30:24.914433",
     "exception": false,
     "start_time": "2024-01-21T18:30:24.895345",
     "status": "completed"
    },
    "tags": []
   },
   "outputs": [],
   "source": [
    "results = {'Algorithm': [], 't_values': [], 'Mean Error': []}"
   ]
  },
  {
   "cell_type": "code",
   "execution_count": 20,
   "id": "bb830408",
   "metadata": {
    "execution": {
     "iopub.execute_input": "2024-01-21T18:30:24.938936Z",
     "iopub.status.busy": "2024-01-21T18:30:24.938627Z",
     "iopub.status.idle": "2024-01-21T18:30:30.983790Z",
     "shell.execute_reply": "2024-01-21T18:30:30.982681Z"
    },
    "papermill": {
     "duration": 6.059815,
     "end_time": "2024-01-21T18:30:30.986043",
     "exception": false,
     "start_time": "2024-01-21T18:30:24.926228",
     "status": "completed"
    },
    "tags": []
   },
   "outputs": [
    {
     "name": "stdout",
     "output_type": "stream",
     "text": [
      "Taux d'erreur moyen pour t=10: 0.11400000000000002\n",
      "Taux d'erreur moyen pour t=50: 0.19\n",
      "Taux d'erreur moyen pour t=100: 0.1984\n"
     ]
    }
   ],
   "source": [
    "t_values = [10, 50, 100]\n",
    "repetitions = 20\n",
    "for t in t_values:\n",
    "    clf =  naive_bayes.MultinomialNB(fit_prior=True)\n",
    "    mean_errors = []\n",
    "    for _ in range(repetitions):\n",
    "        mean_error, _ = test_t(irisData, clf, t,splitV2)\n",
    "        mean_errors.append(mean_error)\n",
    "    std_error = np.std(mean_errors)\n",
    "    print(f\"Taux d'erreur moyen pour t={t}: {mean_error}\")\n",
    "    results['Algorithm'].append('Multinomial Naive Bayes')\n",
    "    results['t_values'].append(t)\n",
    "    results['Mean Error'].append(mean_error)"
   ]
  },
  {
   "cell_type": "code",
   "execution_count": 21,
   "id": "558a0f0c",
   "metadata": {
    "execution": {
     "iopub.execute_input": "2024-01-21T18:30:31.011786Z",
     "iopub.status.busy": "2024-01-21T18:30:31.011436Z",
     "iopub.status.idle": "2024-01-21T18:30:34.233718Z",
     "shell.execute_reply": "2024-01-21T18:30:34.232605Z"
    },
    "papermill": {
     "duration": 3.237361,
     "end_time": "2024-01-21T18:30:34.235755",
     "exception": false,
     "start_time": "2024-01-21T18:30:30.998394",
     "status": "completed"
    },
    "tags": []
   },
   "outputs": [
    {
     "name": "stdout",
     "output_type": "stream",
     "text": [
      "Taux d'erreur moyen pour t=10: 0.05800000000000001\n",
      "Taux d'erreur moyen pour t=50: 0.054800000000000015\n",
      "Taux d'erreur moyen pour t=100: 0.055800000000000016\n"
     ]
    }
   ],
   "source": [
    "from sklearn.tree import DecisionTreeClassifier\n",
    "\n",
    "t_values = [10, 50, 100]\n",
    "repetitions = 20\n",
    "for t in t_values:\n",
    "    clf = DecisionTreeClassifier()\n",
    "    mean_errors = []\n",
    "    for _ in range(repetitions):\n",
    "        mean_error, _ = test_t(irisData, clf, t,split)\n",
    "        mean_errors.append(mean_error)\n",
    "    std_error = np.std(mean_errors)\n",
    "    print(f\"Taux d'erreur moyen pour t={t}: {mean_error}\")\n",
    "    results['Algorithm'].append('Decision Tree Classifier')\n",
    "    results['t_values'].append(t)\n",
    "    results['Mean Error'].append(mean_error)"
   ]
  },
  {
   "cell_type": "code",
   "execution_count": 22,
   "id": "046a6193",
   "metadata": {
    "execution": {
     "iopub.execute_input": "2024-01-21T18:30:34.261754Z",
     "iopub.status.busy": "2024-01-21T18:30:34.261431Z",
     "iopub.status.idle": "2024-01-21T18:40:26.049938Z",
     "shell.execute_reply": "2024-01-21T18:40:26.048961Z"
    },
    "papermill": {
     "duration": 591.817262,
     "end_time": "2024-01-21T18:40:26.065585",
     "exception": false,
     "start_time": "2024-01-21T18:30:34.248323",
     "status": "completed"
    },
    "tags": []
   },
   "outputs": [
    {
     "name": "stdout",
     "output_type": "stream",
     "text": [
      "Taux d'erreur moyen pour t=10: 0.03800000000000002\n",
      "Taux d'erreur moyen pour t=50: 0.052800000000000014\n",
      "Taux d'erreur moyen pour t=100: 0.05080000000000002\n"
     ]
    }
   ],
   "source": [
    "from sklearn.ensemble import RandomForestClassifier\n",
    "\n",
    "t_values = [10, 50, 100]\n",
    "repetitions = 20\n",
    "for t in t_values:\n",
    "    clf = RandomForestClassifier(n_estimators=100)\n",
    "    mean_errors = []\n",
    "    for _ in range(repetitions):\n",
    "        mean_error, _ = test_t(irisData, clf, t,split)\n",
    "        mean_errors.append(mean_error)\n",
    "    std_error = np.std(mean_errors)\n",
    "    print(f\"Taux d'erreur moyen pour t={t}: {mean_error}\")\n",
    "    results['Algorithm'].append('Random Forest Classifier')\n",
    "    results['t_values'].append(t)\n",
    "    results['Mean Error'].append(mean_error)"
   ]
  },
  {
   "cell_type": "code",
   "execution_count": 23,
   "id": "60014709",
   "metadata": {
    "execution": {
     "iopub.execute_input": "2024-01-21T18:40:26.091361Z",
     "iopub.status.busy": "2024-01-21T18:40:26.091041Z",
     "iopub.status.idle": "2024-01-21T18:49:56.358715Z",
     "shell.execute_reply": "2024-01-21T18:49:56.357827Z"
    },
    "papermill": {
     "duration": 570.295592,
     "end_time": "2024-01-21T18:49:56.373476",
     "exception": false,
     "start_time": "2024-01-21T18:40:26.077884",
     "status": "completed"
    },
    "tags": []
   },
   "outputs": [
    {
     "name": "stdout",
     "output_type": "stream",
     "text": [
      "Taux d'erreur moyen pour t=10: 0.05600000000000001\n",
      "Taux d'erreur moyen pour t=50: 0.04600000000000002\n",
      "Taux d'erreur moyen pour t=100: 0.05080000000000001\n"
     ]
    }
   ],
   "source": [
    "from sklearn.ensemble import BaggingClassifier\n",
    "import numpy as np\n",
    "\n",
    "t_values = [10, 50, 100]\n",
    "repetitions = 20\n",
    "\n",
    "for t in t_values:\n",
    "    clf = BaggingClassifier(n_estimators=t)\n",
    "    mean_errors = []\n",
    "    for _ in range(repetitions):\n",
    "        mean_error, _ = test_t(irisData, clf, t, split)\n",
    "        mean_errors.append(mean_error)\n",
    "    std_error = np.std(mean_errors)\n",
    "    print(f\"Taux d'erreur moyen pour t={t}: {mean_error}\")\n",
    "    results['Algorithm'].append('Bagging Classifier')\n",
    "    results['t_values'].append(t)\n",
    "    results['Mean Error'].append(mean_error)\n"
   ]
  },
  {
   "cell_type": "code",
   "execution_count": 24,
   "id": "74e69aed",
   "metadata": {
    "execution": {
     "iopub.execute_input": "2024-01-21T18:49:56.400357Z",
     "iopub.status.busy": "2024-01-21T18:49:56.400045Z",
     "iopub.status.idle": "2024-01-21T18:50:05.668645Z",
     "shell.execute_reply": "2024-01-21T18:50:05.667546Z"
    },
    "papermill": {
     "duration": 9.284586,
     "end_time": "2024-01-21T18:50:05.670648",
     "exception": false,
     "start_time": "2024-01-21T18:49:56.386062",
     "status": "completed"
    },
    "tags": []
   },
   "outputs": [
    {
     "name": "stdout",
     "output_type": "stream",
     "text": [
      "Taux d'erreur moyen pour t=10: 0.056000000000000015\n",
      "Taux d'erreur moyen pour t=50: 0.044400000000000016\n",
      "Taux d'erreur moyen pour t=100: 0.038400000000000024\n"
     ]
    }
   ],
   "source": [
    "from sklearn.neighbors import KNeighborsClassifier\n",
    "\n",
    "t_values = [10, 50, 100]\n",
    "repetitions = 20\n",
    "\n",
    "for t in t_values:\n",
    "    clf = KNeighborsClassifier(n_neighbors=5)  # You can adjust the number of neighbors as needed\n",
    "    mean_errors = []\n",
    "    for _ in range(repetitions):\n",
    "        mean_error, _ = test_t(irisData, clf, t, split)\n",
    "        mean_errors.append(mean_error)\n",
    "\n",
    "    std_error = np.std(mean_errors)\n",
    "    print(f\"Taux d'erreur moyen pour t={t}: {mean_error}\")\n",
    "    results['Algorithm'].append('KNeighbors Classifier')\n",
    "    results['t_values'].append(t)\n",
    "    results['Mean Error'].append(mean_error)\n"
   ]
  },
  {
   "cell_type": "code",
   "execution_count": 25,
   "id": "6f282f68",
   "metadata": {
    "execution": {
     "iopub.execute_input": "2024-01-21T18:50:05.698405Z",
     "iopub.status.busy": "2024-01-21T18:50:05.698091Z",
     "iopub.status.idle": "2024-01-21T18:50:06.350846Z",
     "shell.execute_reply": "2024-01-21T18:50:06.349884Z"
    },
    "papermill": {
     "duration": 0.668808,
     "end_time": "2024-01-21T18:50:06.352955",
     "exception": false,
     "start_time": "2024-01-21T18:50:05.684147",
     "status": "completed"
    },
    "tags": []
   },
   "outputs": [
    {
     "data": {
      "text/html": [
       "<div>\n",
       "<style scoped>\n",
       "    .dataframe tbody tr th:only-of-type {\n",
       "        vertical-align: middle;\n",
       "    }\n",
       "\n",
       "    .dataframe tbody tr th {\n",
       "        vertical-align: top;\n",
       "    }\n",
       "\n",
       "    .dataframe thead th {\n",
       "        text-align: right;\n",
       "    }\n",
       "</style>\n",
       "<table border=\"1\" class=\"dataframe\">\n",
       "  <thead>\n",
       "    <tr style=\"text-align: right;\">\n",
       "      <th></th>\n",
       "      <th>Algorithm</th>\n",
       "      <th>t_values</th>\n",
       "      <th>Mean Error</th>\n",
       "    </tr>\n",
       "  </thead>\n",
       "  <tbody>\n",
       "    <tr>\n",
       "      <th>0</th>\n",
       "      <td>Multinomial Naive Bayes</td>\n",
       "      <td>10</td>\n",
       "      <td>0.1140</td>\n",
       "    </tr>\n",
       "    <tr>\n",
       "      <th>1</th>\n",
       "      <td>Multinomial Naive Bayes</td>\n",
       "      <td>50</td>\n",
       "      <td>0.1900</td>\n",
       "    </tr>\n",
       "    <tr>\n",
       "      <th>2</th>\n",
       "      <td>Multinomial Naive Bayes</td>\n",
       "      <td>100</td>\n",
       "      <td>0.1984</td>\n",
       "    </tr>\n",
       "    <tr>\n",
       "      <th>3</th>\n",
       "      <td>Decision Tree Classifier</td>\n",
       "      <td>10</td>\n",
       "      <td>0.0580</td>\n",
       "    </tr>\n",
       "    <tr>\n",
       "      <th>4</th>\n",
       "      <td>Decision Tree Classifier</td>\n",
       "      <td>50</td>\n",
       "      <td>0.0548</td>\n",
       "    </tr>\n",
       "    <tr>\n",
       "      <th>5</th>\n",
       "      <td>Decision Tree Classifier</td>\n",
       "      <td>100</td>\n",
       "      <td>0.0558</td>\n",
       "    </tr>\n",
       "    <tr>\n",
       "      <th>6</th>\n",
       "      <td>Random Forest Classifier</td>\n",
       "      <td>10</td>\n",
       "      <td>0.0380</td>\n",
       "    </tr>\n",
       "    <tr>\n",
       "      <th>7</th>\n",
       "      <td>Random Forest Classifier</td>\n",
       "      <td>50</td>\n",
       "      <td>0.0528</td>\n",
       "    </tr>\n",
       "    <tr>\n",
       "      <th>8</th>\n",
       "      <td>Random Forest Classifier</td>\n",
       "      <td>100</td>\n",
       "      <td>0.0508</td>\n",
       "    </tr>\n",
       "    <tr>\n",
       "      <th>9</th>\n",
       "      <td>Bagging Classifier</td>\n",
       "      <td>10</td>\n",
       "      <td>0.0560</td>\n",
       "    </tr>\n",
       "    <tr>\n",
       "      <th>10</th>\n",
       "      <td>Bagging Classifier</td>\n",
       "      <td>50</td>\n",
       "      <td>0.0460</td>\n",
       "    </tr>\n",
       "    <tr>\n",
       "      <th>11</th>\n",
       "      <td>Bagging Classifier</td>\n",
       "      <td>100</td>\n",
       "      <td>0.0508</td>\n",
       "    </tr>\n",
       "    <tr>\n",
       "      <th>12</th>\n",
       "      <td>KNeighbors Classifier</td>\n",
       "      <td>10</td>\n",
       "      <td>0.0560</td>\n",
       "    </tr>\n",
       "    <tr>\n",
       "      <th>13</th>\n",
       "      <td>KNeighbors Classifier</td>\n",
       "      <td>50</td>\n",
       "      <td>0.0444</td>\n",
       "    </tr>\n",
       "    <tr>\n",
       "      <th>14</th>\n",
       "      <td>KNeighbors Classifier</td>\n",
       "      <td>100</td>\n",
       "      <td>0.0384</td>\n",
       "    </tr>\n",
       "  </tbody>\n",
       "</table>\n",
       "</div>"
      ],
      "text/plain": [
       "                   Algorithm  t_values  Mean Error\n",
       "0    Multinomial Naive Bayes        10      0.1140\n",
       "1    Multinomial Naive Bayes        50      0.1900\n",
       "2    Multinomial Naive Bayes       100      0.1984\n",
       "3   Decision Tree Classifier        10      0.0580\n",
       "4   Decision Tree Classifier        50      0.0548\n",
       "5   Decision Tree Classifier       100      0.0558\n",
       "6   Random Forest Classifier        10      0.0380\n",
       "7   Random Forest Classifier        50      0.0528\n",
       "8   Random Forest Classifier       100      0.0508\n",
       "9         Bagging Classifier        10      0.0560\n",
       "10        Bagging Classifier        50      0.0460\n",
       "11        Bagging Classifier       100      0.0508\n",
       "12     KNeighbors Classifier        10      0.0560\n",
       "13     KNeighbors Classifier        50      0.0444\n",
       "14     KNeighbors Classifier       100      0.0384"
      ]
     },
     "execution_count": 25,
     "metadata": {},
     "output_type": "execute_result"
    }
   ],
   "source": [
    "# Convert the dictionary to a Pandas DataFrame\n",
    "import pandas as pd\n",
    "df = pd.DataFrame(results)\n",
    "\n",
    "# Display the DataFrame\n",
    "df.head(25)"
   ]
  },
  {
   "cell_type": "markdown",
   "id": "15f86d42",
   "metadata": {
    "papermill": {
     "duration": 0.012886,
     "end_time": "2024-01-21T18:50:06.379601",
     "exception": false,
     "start_time": "2024-01-21T18:50:06.366715",
     "status": "completed"
    },
    "tags": []
   },
   "source": [
    "***2.1 Cross Validation***"
   ]
  },
  {
   "cell_type": "code",
   "execution_count": 26,
   "id": "aad719a7",
   "metadata": {
    "execution": {
     "iopub.execute_input": "2024-01-21T18:50:06.406950Z",
     "iopub.status.busy": "2024-01-21T18:50:06.406498Z",
     "iopub.status.idle": "2024-01-21T18:50:06.410739Z",
     "shell.execute_reply": "2024-01-21T18:50:06.409919Z"
    },
    "papermill": {
     "duration": 0.019925,
     "end_time": "2024-01-21T18:50:06.412550",
     "exception": false,
     "start_time": "2024-01-21T18:50:06.392625",
     "status": "completed"
    },
    "tags": []
   },
   "outputs": [],
   "source": [
    "results = {'Algorithm': [], 'Folds': [], 'Mean Error': []}"
   ]
  },
  {
   "cell_type": "code",
   "execution_count": 27,
   "id": "d84de30b",
   "metadata": {
    "execution": {
     "iopub.execute_input": "2024-01-21T18:50:06.439630Z",
     "iopub.status.busy": "2024-01-21T18:50:06.439354Z",
     "iopub.status.idle": "2024-01-21T18:50:06.504980Z",
     "shell.execute_reply": "2024-01-21T18:50:06.503988Z"
    },
    "papermill": {
     "duration": 0.08127,
     "end_time": "2024-01-21T18:50:06.506869",
     "exception": false,
     "start_time": "2024-01-21T18:50:06.425599",
     "status": "completed"
    },
    "tags": []
   },
   "outputs": [
    {
     "name": "stdout",
     "output_type": "stream",
     "text": [
      "Taux d'erreur moyen avec 2 folds: 0.046666666666666634\n",
      "Taux d'erreur moyen avec 3 folds: 0.053333333333333344\n",
      "Taux d'erreur moyen avec 5 folds: 0.046666666666666634\n",
      "Taux d'erreur moyen avec 8 folds: 0.05263157894736836\n",
      "Taux d'erreur moyen avec 10 folds: 0.046666666666666634\n"
     ]
    }
   ],
   "source": [
    "# Utilisation de cross_val_score pour estimer l'erreur réelle par validation croisée\n",
    "from sklearn.model_selection import cross_val_score\n",
    "from sklearn.naive_bayes import MultinomialNB\n",
    "folds_values = [2, 3, 5, 8, 10]\n",
    "for folds in folds_values:\n",
    "    clf = MultinomialNB(fit_prior=True)\n",
    "    scores = cross_val_score(clf, irisData.data, irisData.target, cv=folds)\n",
    "    mean_error = 1 - np.mean(scores)\n",
    "    print(f\"Taux d'erreur moyen avec {folds} folds: {mean_error}\")\n",
    "    results['Algorithm'].append('Multinomial Naive Bayes')\n",
    "    results['Folds'].append(folds)\n",
    "    results['Mean Error'].append(mean_error)"
   ]
  },
  {
   "cell_type": "code",
   "execution_count": 28,
   "id": "62a40e74",
   "metadata": {
    "execution": {
     "iopub.execute_input": "2024-01-21T18:50:06.536059Z",
     "iopub.status.busy": "2024-01-21T18:50:06.535812Z",
     "iopub.status.idle": "2024-01-21T18:50:06.587891Z",
     "shell.execute_reply": "2024-01-21T18:50:06.586870Z"
    },
    "papermill": {
     "duration": 0.06956,
     "end_time": "2024-01-21T18:50:06.589856",
     "exception": false,
     "start_time": "2024-01-21T18:50:06.520296",
     "status": "completed"
    },
    "tags": []
   },
   "outputs": [
    {
     "name": "stdout",
     "output_type": "stream",
     "text": [
      "Taux d'erreur moyen avec 2 folds: 0.046666666666666634\n",
      "Taux d'erreur moyen avec 3 folds: 0.033333333333333326\n",
      "Taux d'erreur moyen avec 5 folds: 0.039999999999999813\n",
      "Taux d'erreur moyen avec 8 folds: 0.03289473684210531\n",
      "Taux d'erreur moyen avec 10 folds: 0.046666666666666634\n"
     ]
    }
   ],
   "source": [
    "from sklearn.tree import DecisionTreeClassifier\n",
    "\n",
    "folds_values = [2, 3, 5, 8, 10]\n",
    "\n",
    "for folds in folds_values:\n",
    "    clf = DecisionTreeClassifier()  # You can adjust parameters as needed\n",
    "    scores = cross_val_score(clf, irisData.data, irisData.target, cv=folds)\n",
    "    mean_error = 1 - np.mean(scores)\n",
    "    print(f\"Taux d'erreur moyen avec {folds} folds: {mean_error}\")\n",
    "    results['Algorithm'].append('Decision Tree')\n",
    "    results['Folds'].append(folds)\n",
    "    results['Mean Error'].append(mean_error)"
   ]
  },
  {
   "cell_type": "code",
   "execution_count": 29,
   "id": "680c6f56",
   "metadata": {
    "execution": {
     "iopub.execute_input": "2024-01-21T18:50:06.618063Z",
     "iopub.status.busy": "2024-01-21T18:50:06.617803Z",
     "iopub.status.idle": "2024-01-21T18:50:12.969617Z",
     "shell.execute_reply": "2024-01-21T18:50:12.968500Z"
    },
    "papermill": {
     "duration": 6.36933,
     "end_time": "2024-01-21T18:50:12.972874",
     "exception": false,
     "start_time": "2024-01-21T18:50:06.603544",
     "status": "completed"
    },
    "tags": []
   },
   "outputs": [
    {
     "name": "stdout",
     "output_type": "stream",
     "text": [
      "Taux d'erreur moyen avec 2 folds: 0.040000000000000036\n",
      "Taux d'erreur moyen avec 3 folds: 0.033333333333333326\n",
      "Taux d'erreur moyen avec 5 folds: 0.033333333333333215\n",
      "Taux d'erreur moyen avec 8 folds: 0.03289473684210531\n",
      "Taux d'erreur moyen avec 10 folds: 0.03333333333333344\n"
     ]
    }
   ],
   "source": [
    "folds_values = [2, 3, 5, 8, 10]\n",
    "from sklearn.ensemble import BaggingClassifier\n",
    "\n",
    "for folds in folds_values:\n",
    "    clf = BaggingClassifier(n_estimators=100)  # You can adjust the number of estimators as needed\n",
    "    scores = cross_val_score(clf, irisData.data, irisData.target, cv=folds)\n",
    "    mean_error = 1 - np.mean(scores)\n",
    "    print(f\"Taux d'erreur moyen avec {folds} folds: {mean_error}\")\n",
    "    results['Algorithm'].append('Bagging Classifier')\n",
    "    results['Folds'].append(folds)\n",
    "    results['Mean Error'].append(mean_error)\n"
   ]
  },
  {
   "cell_type": "code",
   "execution_count": 30,
   "id": "1cd74e25",
   "metadata": {
    "execution": {
     "iopub.execute_input": "2024-01-21T18:50:13.015084Z",
     "iopub.status.busy": "2024-01-21T18:50:13.014443Z",
     "iopub.status.idle": "2024-01-21T18:50:18.299411Z",
     "shell.execute_reply": "2024-01-21T18:50:18.298375Z"
    },
    "papermill": {
     "duration": 5.308028,
     "end_time": "2024-01-21T18:50:18.301628",
     "exception": false,
     "start_time": "2024-01-21T18:50:12.993600",
     "status": "completed"
    },
    "tags": []
   },
   "outputs": [
    {
     "name": "stdout",
     "output_type": "stream",
     "text": [
      "Taux d'erreur moyen avec 2 folds: 0.040000000000000036\n",
      "Taux d'erreur moyen avec 3 folds: 0.040000000000000036\n",
      "Taux d'erreur moyen avec 5 folds: 0.033333333333333215\n",
      "Taux d'erreur moyen avec 8 folds: 0.03289473684210531\n",
      "Taux d'erreur moyen avec 10 folds: 0.03333333333333344\n"
     ]
    }
   ],
   "source": [
    "folds_values = [2, 3, 5, 8, 10]\n",
    "\n",
    "for folds in folds_values:\n",
    "    clf = RandomForestClassifier(n_estimators=100)  # You can adjust the number of estimators as needed\n",
    "    scores = cross_val_score(clf, irisData.data, irisData.target, cv=folds)\n",
    "    mean_error = 1 - np.mean(scores)\n",
    "    print(f\"Taux d'erreur moyen avec {folds} folds: {mean_error}\")\n",
    "    results['Algorithm'].append('Random Forest')\n",
    "    results['Folds'].append(folds)\n",
    "    results['Mean Error'].append(mean_error)\n"
   ]
  },
  {
   "cell_type": "code",
   "execution_count": 31,
   "id": "c7b36329",
   "metadata": {
    "execution": {
     "iopub.execute_input": "2024-01-21T18:50:18.332956Z",
     "iopub.status.busy": "2024-01-21T18:50:18.332648Z",
     "iopub.status.idle": "2024-01-21T18:50:18.414035Z",
     "shell.execute_reply": "2024-01-21T18:50:18.412882Z"
    },
    "papermill": {
     "duration": 0.098956,
     "end_time": "2024-01-21T18:50:18.415939",
     "exception": false,
     "start_time": "2024-01-21T18:50:18.316983",
     "status": "completed"
    },
    "tags": []
   },
   "outputs": [
    {
     "name": "stdout",
     "output_type": "stream",
     "text": [
      "Taux d'erreur moyen avec 2 folds: 0.06000000000000005\n",
      "Taux d'erreur moyen avec 3 folds: 0.020000000000000018\n",
      "Taux d'erreur moyen avec 5 folds: 0.026666666666666616\n",
      "Taux d'erreur moyen avec 8 folds: 0.03289473684210531\n",
      "Taux d'erreur moyen avec 10 folds: 0.033333333333333215\n"
     ]
    }
   ],
   "source": [
    "folds_values = [2, 3, 5, 8, 10]\n",
    "from sklearn.neighbors import KNeighborsClassifier\n",
    "for folds in folds_values:\n",
    "    clf = KNeighborsClassifier(n_neighbors=5)  # You can adjust the number of estimators as needed\n",
    "    scores = cross_val_score(clf, irisData.data, irisData.target, cv=folds)\n",
    "    mean_error = 1 - np.mean(scores)\n",
    "    print(f\"Taux d'erreur moyen avec {folds} folds: {mean_error}\")\n",
    "    results['Algorithm'].append('K-Nearest Neighbors')\n",
    "    results['Folds'].append(folds)\n",
    "    results['Mean Error'].append(mean_error)\n"
   ]
  },
  {
   "cell_type": "code",
   "execution_count": 32,
   "id": "0b058db5",
   "metadata": {
    "execution": {
     "iopub.execute_input": "2024-01-21T18:50:18.445892Z",
     "iopub.status.busy": "2024-01-21T18:50:18.445624Z",
     "iopub.status.idle": "2024-01-21T18:50:18.457467Z",
     "shell.execute_reply": "2024-01-21T18:50:18.456660Z"
    },
    "papermill": {
     "duration": 0.028949,
     "end_time": "2024-01-21T18:50:18.459347",
     "exception": false,
     "start_time": "2024-01-21T18:50:18.430398",
     "status": "completed"
    },
    "tags": []
   },
   "outputs": [
    {
     "data": {
      "text/html": [
       "<div>\n",
       "<style scoped>\n",
       "    .dataframe tbody tr th:only-of-type {\n",
       "        vertical-align: middle;\n",
       "    }\n",
       "\n",
       "    .dataframe tbody tr th {\n",
       "        vertical-align: top;\n",
       "    }\n",
       "\n",
       "    .dataframe thead th {\n",
       "        text-align: right;\n",
       "    }\n",
       "</style>\n",
       "<table border=\"1\" class=\"dataframe\">\n",
       "  <thead>\n",
       "    <tr style=\"text-align: right;\">\n",
       "      <th></th>\n",
       "      <th>Algorithm</th>\n",
       "      <th>Folds</th>\n",
       "      <th>Mean Error</th>\n",
       "    </tr>\n",
       "  </thead>\n",
       "  <tbody>\n",
       "    <tr>\n",
       "      <th>0</th>\n",
       "      <td>Multinomial Naive Bayes</td>\n",
       "      <td>2</td>\n",
       "      <td>0.046667</td>\n",
       "    </tr>\n",
       "    <tr>\n",
       "      <th>1</th>\n",
       "      <td>Multinomial Naive Bayes</td>\n",
       "      <td>3</td>\n",
       "      <td>0.053333</td>\n",
       "    </tr>\n",
       "    <tr>\n",
       "      <th>2</th>\n",
       "      <td>Multinomial Naive Bayes</td>\n",
       "      <td>5</td>\n",
       "      <td>0.046667</td>\n",
       "    </tr>\n",
       "    <tr>\n",
       "      <th>3</th>\n",
       "      <td>Multinomial Naive Bayes</td>\n",
       "      <td>8</td>\n",
       "      <td>0.052632</td>\n",
       "    </tr>\n",
       "    <tr>\n",
       "      <th>4</th>\n",
       "      <td>Multinomial Naive Bayes</td>\n",
       "      <td>10</td>\n",
       "      <td>0.046667</td>\n",
       "    </tr>\n",
       "    <tr>\n",
       "      <th>5</th>\n",
       "      <td>Decision Tree</td>\n",
       "      <td>2</td>\n",
       "      <td>0.046667</td>\n",
       "    </tr>\n",
       "    <tr>\n",
       "      <th>6</th>\n",
       "      <td>Decision Tree</td>\n",
       "      <td>3</td>\n",
       "      <td>0.033333</td>\n",
       "    </tr>\n",
       "    <tr>\n",
       "      <th>7</th>\n",
       "      <td>Decision Tree</td>\n",
       "      <td>5</td>\n",
       "      <td>0.040000</td>\n",
       "    </tr>\n",
       "    <tr>\n",
       "      <th>8</th>\n",
       "      <td>Decision Tree</td>\n",
       "      <td>8</td>\n",
       "      <td>0.032895</td>\n",
       "    </tr>\n",
       "    <tr>\n",
       "      <th>9</th>\n",
       "      <td>Decision Tree</td>\n",
       "      <td>10</td>\n",
       "      <td>0.046667</td>\n",
       "    </tr>\n",
       "    <tr>\n",
       "      <th>10</th>\n",
       "      <td>Bagging Classifier</td>\n",
       "      <td>2</td>\n",
       "      <td>0.040000</td>\n",
       "    </tr>\n",
       "    <tr>\n",
       "      <th>11</th>\n",
       "      <td>Bagging Classifier</td>\n",
       "      <td>3</td>\n",
       "      <td>0.033333</td>\n",
       "    </tr>\n",
       "    <tr>\n",
       "      <th>12</th>\n",
       "      <td>Bagging Classifier</td>\n",
       "      <td>5</td>\n",
       "      <td>0.033333</td>\n",
       "    </tr>\n",
       "    <tr>\n",
       "      <th>13</th>\n",
       "      <td>Bagging Classifier</td>\n",
       "      <td>8</td>\n",
       "      <td>0.032895</td>\n",
       "    </tr>\n",
       "    <tr>\n",
       "      <th>14</th>\n",
       "      <td>Bagging Classifier</td>\n",
       "      <td>10</td>\n",
       "      <td>0.033333</td>\n",
       "    </tr>\n",
       "    <tr>\n",
       "      <th>15</th>\n",
       "      <td>Random Forest</td>\n",
       "      <td>2</td>\n",
       "      <td>0.040000</td>\n",
       "    </tr>\n",
       "    <tr>\n",
       "      <th>16</th>\n",
       "      <td>Random Forest</td>\n",
       "      <td>3</td>\n",
       "      <td>0.040000</td>\n",
       "    </tr>\n",
       "    <tr>\n",
       "      <th>17</th>\n",
       "      <td>Random Forest</td>\n",
       "      <td>5</td>\n",
       "      <td>0.033333</td>\n",
       "    </tr>\n",
       "    <tr>\n",
       "      <th>18</th>\n",
       "      <td>Random Forest</td>\n",
       "      <td>8</td>\n",
       "      <td>0.032895</td>\n",
       "    </tr>\n",
       "    <tr>\n",
       "      <th>19</th>\n",
       "      <td>Random Forest</td>\n",
       "      <td>10</td>\n",
       "      <td>0.033333</td>\n",
       "    </tr>\n",
       "    <tr>\n",
       "      <th>20</th>\n",
       "      <td>K-Nearest Neighbors</td>\n",
       "      <td>2</td>\n",
       "      <td>0.060000</td>\n",
       "    </tr>\n",
       "    <tr>\n",
       "      <th>21</th>\n",
       "      <td>K-Nearest Neighbors</td>\n",
       "      <td>3</td>\n",
       "      <td>0.020000</td>\n",
       "    </tr>\n",
       "    <tr>\n",
       "      <th>22</th>\n",
       "      <td>K-Nearest Neighbors</td>\n",
       "      <td>5</td>\n",
       "      <td>0.026667</td>\n",
       "    </tr>\n",
       "    <tr>\n",
       "      <th>23</th>\n",
       "      <td>K-Nearest Neighbors</td>\n",
       "      <td>8</td>\n",
       "      <td>0.032895</td>\n",
       "    </tr>\n",
       "    <tr>\n",
       "      <th>24</th>\n",
       "      <td>K-Nearest Neighbors</td>\n",
       "      <td>10</td>\n",
       "      <td>0.033333</td>\n",
       "    </tr>\n",
       "  </tbody>\n",
       "</table>\n",
       "</div>"
      ],
      "text/plain": [
       "                  Algorithm  Folds  Mean Error\n",
       "0   Multinomial Naive Bayes      2    0.046667\n",
       "1   Multinomial Naive Bayes      3    0.053333\n",
       "2   Multinomial Naive Bayes      5    0.046667\n",
       "3   Multinomial Naive Bayes      8    0.052632\n",
       "4   Multinomial Naive Bayes     10    0.046667\n",
       "5             Decision Tree      2    0.046667\n",
       "6             Decision Tree      3    0.033333\n",
       "7             Decision Tree      5    0.040000\n",
       "8             Decision Tree      8    0.032895\n",
       "9             Decision Tree     10    0.046667\n",
       "10       Bagging Classifier      2    0.040000\n",
       "11       Bagging Classifier      3    0.033333\n",
       "12       Bagging Classifier      5    0.033333\n",
       "13       Bagging Classifier      8    0.032895\n",
       "14       Bagging Classifier     10    0.033333\n",
       "15            Random Forest      2    0.040000\n",
       "16            Random Forest      3    0.040000\n",
       "17            Random Forest      5    0.033333\n",
       "18            Random Forest      8    0.032895\n",
       "19            Random Forest     10    0.033333\n",
       "20      K-Nearest Neighbors      2    0.060000\n",
       "21      K-Nearest Neighbors      3    0.020000\n",
       "22      K-Nearest Neighbors      5    0.026667\n",
       "23      K-Nearest Neighbors      8    0.032895\n",
       "24      K-Nearest Neighbors     10    0.033333"
      ]
     },
     "execution_count": 32,
     "metadata": {},
     "output_type": "execute_result"
    }
   ],
   "source": [
    "# Convert the dictionary to a Pandas DataFrame\n",
    "import pandas as pd\n",
    "df = pd.DataFrame(results)\n",
    "\n",
    "# Display the DataFrame\n",
    "df.head(25)"
   ]
  }
 ],
 "metadata": {
  "kaggle": {
   "accelerator": "nvidiaTeslaT4",
   "dataSources": [],
   "dockerImageVersionId": 30636,
   "isGpuEnabled": true,
   "isInternetEnabled": true,
   "language": "python",
   "sourceType": "notebook"
  },
  "kernelspec": {
   "display_name": "Python 3",
   "language": "python",
   "name": "python3"
  },
  "language_info": {
   "codemirror_mode": {
    "name": "ipython",
    "version": 3
   },
   "file_extension": ".py",
   "mimetype": "text/x-python",
   "name": "python",
   "nbconvert_exporter": "python",
   "pygments_lexer": "ipython3",
   "version": "3.10.12"
  },
  "papermill": {
   "default_parameters": {},
   "duration": 1313.349147,
   "end_time": "2024-01-21T18:50:18.894458",
   "environment_variables": {},
   "exception": null,
   "input_path": "__notebook__.ipynb",
   "output_path": "__notebook__.ipynb",
   "parameters": {},
   "start_time": "2024-01-21T18:28:25.545311",
   "version": "2.4.0"
  }
 },
 "nbformat": 4,
 "nbformat_minor": 5
}
