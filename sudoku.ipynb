{
  "cells": [
    {
      "cell_type": "markdown",
      "source": [
        "**1. Représenter le Sudoku comme un CSP (Problème de Satisfaction de Contraintes)**\n",
        "1. Variables : Dans un Sudoku, chaque case peut être considérée comme une variable. Pour un Sudoku standard de 9x9, vous aurez 81 variables, généralement nommées par leur position dans la grille (par exemple, (i,j) pour la case de la i-ème ligne et la j-ème colonne).\n",
        "\n",
        "2. Domaines : Le domaine de chaque variable dans le Sudoku est l'ensemble des chiffres de 1 à 9, car chaque case peut contenir n'importe lequel de ces chiffres.\n",
        "\n",
        "3. Contraintes : Les contraintes du Sudoku sont que chaque chiffre doit apparaître exactement une fois par ligne, une fois par colonne et une fois par sous-grille 3x3. Ces contraintes peuvent être représentées comme suit :\n",
        "\n",
        " * Contrainte de ligne : Aucun chiffre répété dans une même ligne.\n",
        " * Contrainte de colonne : Aucun chiffre répété dans une même colonne.\n",
        " * Contrainte de sous-grille 3x3 : Aucun chiffre répété dans une même sous-grille 3x3."
      ],
      "metadata": {
        "id": "Lix2KMqd1L4R"
      },
      "id": "Lix2KMqd1L4R"
    },
    {
      "cell_type": "code",
      "execution_count": null,
      "id": "2999f080-a15c-4b54-9132-b96e97c94ef7",
      "metadata": {
        "id": "2999f080-a15c-4b54-9132-b96e97c94ef7"
      },
      "outputs": [],
      "source": [
        "class SudokuCSP:\n",
        "    def __init__(self, initial_state):\n",
        "        self.variables = [(i, j) for i in range(9) for j in range(9)]\n",
        "        self.domains = {var: list(range(1, 10)) if initial_state[var[0]][var[1]] == 0 else [initial_state[var[0]][var[1]]] for var in self.variables}\n",
        "        self.constraints = []\n",
        "        self.initialize_constraints()\n",
        "\n",
        "    def initialize_constraints(self):\n",
        "        # Add constraints for rows, columns, and 3x3 squares\n",
        "        for i in range(9):\n",
        "            for j in range(9):\n",
        "                # Row and column constraints\n",
        "                for k in range(9):\n",
        "                    if k != j:\n",
        "                        self.constraints.append(((i, j), (i, k)))\n",
        "                    if k != i:\n",
        "                        self.constraints.append(((i, j), (k, j)))\n",
        "\n",
        "                # 3x3 square constraints\n",
        "                for k in range(3):\n",
        "                    for l in range(3):\n",
        "                        row = 3 * (i // 3) + k\n",
        "                        col = 3 * (j // 3) + l\n",
        "                        if (row, col) != (i, j):\n",
        "                            self.constraints.append(((i, j), (row, col)))\n",
        "\n",
        "    def assign_initial_state(self, initial_state):\n",
        "        # Assign initial values and adjust domains\n",
        "        for i in range(9):\n",
        "            for j in range(9):\n",
        "                if initial_state[i][j] != 0:\n",
        "                    self.domains[(i, j)] = [initial_state[i][j]]\n",
        "\n",
        "    def is_assignment_valid(self, board, row, col, num):\n",
        "        # Check if a number is valid in the given row, column and 3x3 square\n",
        "        for x in range(9):\n",
        "            if board[row][x] == num or board[x][col] == num or \\\n",
        "               board[3 * (row // 3) + x // 3][3 * (col // 3) + x % 3] == num:\n",
        "                return False\n",
        "        return True\n",
        "    def count_possible_values(self, board, row, col):\n",
        "        possible_values = set(range(1, 10))  # Chiffres possibles de 1 à 9\n",
        "        for i in range(9):\n",
        "            # Enlever les valeurs déjà présentes dans la ligne, colonne et sous-grille\n",
        "            possible_values.discard(board[row][i])\n",
        "            possible_values.discard(board[i][col])\n",
        "            possible_values.discard(board[3 * (row // 3) + i // 3][3 * (col // 3) + i % 3])\n",
        "        return len(possible_values)\n"
      ]
    },
    {
      "cell_type": "markdown",
      "source": [
        "**2. Résolution du Sudoku par l'algorithme de Backtracking**"
      ],
      "metadata": {
        "id": "b-kN0AHQ1x15"
      },
      "id": "b-kN0AHQ1x15"
    },
    {
      "cell_type": "code",
      "source": [
        "def solve_sudoku(board, sudoku_csp):\n",
        "    empty = find_empty_location(board)\n",
        "    if not empty:\n",
        "        return True  # No empty space, Sudoku solved\n",
        "    row, col = empty\n",
        "\n",
        "    for num in range(1, 10):\n",
        "        if sudoku_csp.is_assignment_valid(board, row, col, num):\n",
        "            board[row][col] = num\n",
        "            if solve_sudoku(board, sudoku_csp):\n",
        "                return True\n",
        "    board[row][col] = 0  # Backtrack\n",
        "\n",
        "    return False\n",
        "def find_empty_location(board):\n",
        "    for i in range(9):\n",
        "        for j in range(9):\n",
        "            if board[i][j] == 0:  # 0 signifie une case vide\n",
        "                return (i, j)\n",
        "    return None"
      ],
      "metadata": {
        "id": "hpgeGWMdx7dP"
      },
      "id": "hpgeGWMdx7dP",
      "execution_count": null,
      "outputs": []
    },
    {
      "cell_type": "code",
      "source": [
        "sudoku_board = [\n",
        "    [5, 3, 0, 0, 7, 0, 0, 0, 0],\n",
        "    [6, 0, 0, 1, 9, 5, 0, 0, 0],\n",
        "    [0, 9, 8, 0, 0, 0, 0, 6, 0],\n",
        "    [8, 0, 0, 0, 6, 0, 0, 0, 3],\n",
        "    [4, 0, 0, 8, 0, 3, 0, 0, 1],\n",
        "    [7, 0, 0, 0, 2, 0, 0, 0, 6],\n",
        "    [0, 6, 0, 0, 0, 0, 2, 8, 0],\n",
        "    [0, 0, 0, 4, 1, 9, 0, 0, 5],\n",
        "    [0, 0, 0, 0, 8, 0, 0, 7, 9]\n",
        "]\n",
        "sudoku_csp = SudokuCSP(sudoku_board)\n",
        "\n",
        "if solve_sudoku(sudoku_board, sudoku_csp):\n",
        "    for row in sudoku_board:\n",
        "        print(row)\n",
        "else:\n",
        "    print(\"Pas de solution\")"
      ],
      "metadata": {
        "colab": {
          "base_uri": "https://localhost:8080/"
        },
        "id": "HL5yiZz6yEmC",
        "outputId": "889b8299-0ce0-4fbc-d1d3-5ce4a7763ab0"
      },
      "id": "HL5yiZz6yEmC",
      "execution_count": null,
      "outputs": [
        {
          "output_type": "stream",
          "name": "stdout",
          "text": [
            "[5, 3, 4, 6, 7, 8, 9, 1, 2]\n",
            "[6, 7, 2, 1, 9, 5, 3, 4, 8]\n",
            "[1, 9, 8, 3, 4, 2, 5, 6, 7]\n",
            "[8, 5, 9, 7, 6, 1, 4, 2, 3]\n",
            "[4, 2, 6, 8, 5, 3, 7, 9, 1]\n",
            "[7, 1, 3, 9, 2, 4, 8, 5, 6]\n",
            "[9, 6, 1, 5, 3, 7, 2, 8, 4]\n",
            "[2, 8, 7, 4, 1, 9, 6, 3, 5]\n",
            "[3, 4, 5, 2, 8, 6, 1, 7, 9]\n"
          ]
        }
      ]
    },
    {
      "cell_type": "markdown",
      "source": [
        "**3. Amélioration de la performance de l'algorithme avec une heuristique**\n",
        "\n",
        "L'heuristique \"Minimum Remaining Values\" (MRV) peut être utilisée pour améliorer l'efficacité de l'algorithme de backtracking. L'idée est de choisir en premier la case avec le moins de valeurs possibles. Ceci réduit l'espace de recherche et mène souvent à une solution plus rapidement.\n",
        "\n",
        "* Heuristique MRV : Parmi toutes les cases vides, choisir celle qui a le moins de valeurs possibles dans son domaine.\n",
        "* Intégration avec Backtracking : Utiliser cette case pour continuer la résolution avec l'algorithme de backtracking.\n",
        "\n"
      ],
      "metadata": {
        "id": "XI85LMNm2FnG"
      },
      "id": "XI85LMNm2FnG"
    },
    {
      "cell_type": "code",
      "source": [
        "def find_least_remaining_values(board, sudoku_csp):\n",
        "    min_count = 10  # Plus que le nombre maximal de valeurs possibles (9)\n",
        "    min_pos = None\n",
        "    for i in range(9):\n",
        "        for j in range(9):\n",
        "            if board[i][j] == 0:  # Si la case est vide\n",
        "                count = sudoku_csp.count_possible_values(board, i, j)\n",
        "                if count < min_count:\n",
        "                    min_count = count\n",
        "                    min_pos = (i, j)\n",
        "    return min_pos\n"
      ],
      "metadata": {
        "id": "96EW_5OEyk_R"
      },
      "id": "96EW_5OEyk_R",
      "execution_count": null,
      "outputs": []
    },
    {
      "cell_type": "code",
      "source": [
        "def solve_sudoku_with_mrv(board, sudoku_csp):\n",
        "    empty = find_least_remaining_values(board, sudoku_csp)\n",
        "    if empty is None:\n",
        "        return True  # Sudoku résolu\n",
        "    row, col = empty\n",
        "\n",
        "    for num in range(1, 10):\n",
        "        if sudoku_csp.is_assignment_valid(board, row, col, num):\n",
        "            board[row][col] = num\n",
        "            if solve_sudoku(board, sudoku_csp):\n",
        "                return True\n",
        "    board[row][col] = 0\n",
        "    return False\n"
      ],
      "metadata": {
        "id": "mQ03fyy9zk2v"
      },
      "id": "mQ03fyy9zk2v",
      "execution_count": null,
      "outputs": []
    },
    {
      "cell_type": "code",
      "source": [
        "# Exemple de grille Sudoku\n",
        "sudoku_board = [\n",
        "    [0, 6, 0, 1, 0, 4, 0, 5, 0],\n",
        "    [0, 0, 8, 3, 0, 5, 6, 0, 0],\n",
        "    [2, 0, 0, 0, 0, 0, 0, 0, 1],\n",
        "    [8, 0, 0, 4, 0, 7, 0, 0, 6],\n",
        "    [0, 0, 6, 0, 0, 0, 3, 0, 0],\n",
        "    [7, 0, 0, 9, 0, 1, 0, 0, 4],\n",
        "    [5, 0, 0, 0, 0, 0, 0, 0, 2],\n",
        "    [0, 0, 7, 2, 0, 6, 9, 0, 0],\n",
        "    [0, 4, 0, 5, 0, 8, 0, 7, 0]\n",
        "]\n",
        "sudoku_csp = SudokuCSP(sudoku_board)\n",
        "\n",
        "if solve_sudoku_with_mrv(sudoku_board, sudoku_csp):\n",
        "    for row in sudoku_board:\n",
        "        print(row)\n",
        "else:\n",
        "    print(\"Pas de solution\")\n"
      ],
      "metadata": {
        "colab": {
          "base_uri": "https://localhost:8080/"
        },
        "id": "eORWb8x5zpdm",
        "outputId": "93dc684a-0c82-43ac-ac1d-b1647cd501e3"
      },
      "id": "eORWb8x5zpdm",
      "execution_count": null,
      "outputs": [
        {
          "output_type": "stream",
          "name": "stdout",
          "text": [
            "[9, 6, 3, 1, 7, 4, 2, 5, 8]\n",
            "[1, 7, 8, 3, 2, 5, 6, 4, 9]\n",
            "[2, 5, 4, 6, 8, 9, 7, 3, 1]\n",
            "[8, 2, 1, 4, 3, 7, 5, 9, 6]\n",
            "[4, 9, 6, 8, 5, 2, 3, 1, 7]\n",
            "[7, 3, 5, 9, 6, 1, 8, 2, 4]\n",
            "[5, 8, 9, 7, 1, 3, 4, 6, 2]\n",
            "[3, 1, 7, 2, 4, 6, 9, 8, 5]\n",
            "[6, 4, 2, 5, 9, 8, 1, 7, 3]\n"
          ]
        }
      ]
    },
    {
      "cell_type": "code",
      "source": [
        "def find_least_constraining_value(board, sudoku_csp, row, col):\n",
        "    values = sudoku_csp.domains[(row, col)]\n",
        "    count_dict = {}\n",
        "\n",
        "    for value in values:\n",
        "        count = 0\n",
        "        for i in range(9):\n",
        "            if board[row][i] == 0 and value in sudoku_csp.domains[(row, i)]:\n",
        "                count += 1\n",
        "            if board[i][col] == 0 and value in sudoku_csp.domains[(i, col)]:\n",
        "                count += 1\n",
        "            subgrid_row = 3 * (row // 3) + i // 3\n",
        "            subgrid_col = 3 * (col // 3) + i % 3\n",
        "            if board[subgrid_row][subgrid_col] == 0 and value in sudoku_csp.domains[(subgrid_row, subgrid_col)]:\n",
        "                count += 1\n",
        "\n",
        "        count_dict[value] = count\n",
        "\n",
        "    # Sort values based on the count of constraints they impose on other variables\n",
        "    sorted_values = sorted(count_dict, key=lambda k: count_dict[k])\n",
        "\n",
        "    return sorted_values\n",
        "\n",
        "\n",
        "def solve_sudoku_with_lcv(board, sudoku_csp):\n",
        "    empty = find_least_remaining_values(board, sudoku_csp)\n",
        "    if empty is None:\n",
        "        return True  # Sudoku solved\n",
        "    row, col = empty\n",
        "\n",
        "    values = find_least_constraining_value(board, sudoku_csp, row, col)\n",
        "\n",
        "    for num in values:\n",
        "        if sudoku_csp.is_assignment_valid(board, row, col, num):\n",
        "            board[row][col] = num\n",
        "            if solve_sudoku_with_lcv(board, sudoku_csp):\n",
        "                return True\n",
        "    board[row][col] = 0\n",
        "\n",
        "    return False"
      ],
      "metadata": {
        "id": "o2C0-AAQa78E"
      },
      "id": "o2C0-AAQa78E",
      "execution_count": null,
      "outputs": []
    },
    {
      "cell_type": "code",
      "source": [
        "# Exemple de grille Sudoku\n",
        "sudoku_board = [\n",
        "    [0, 6, 0, 1, 0, 4, 0, 5, 0],\n",
        "    [0, 0, 8, 3, 0, 5, 6, 0, 0],\n",
        "    [2, 0, 0, 0, 0, 0, 0, 0, 1],\n",
        "    [8, 0, 0, 4, 0, 7, 0, 0, 6],\n",
        "    [0, 0, 6, 0, 0, 0, 3, 0, 0],\n",
        "    [7, 0, 0, 9, 0, 1, 0, 0, 4],\n",
        "    [5, 0, 0, 0, 0, 0, 0, 0, 2],\n",
        "    [0, 0, 7, 2, 0, 6, 9, 0, 0],\n",
        "    [0, 4, 0, 5, 0, 8, 0, 7, 0]\n",
        "]\n",
        "sudoku_csp = SudokuCSP(sudoku_board)\n",
        "\n",
        "if solve_sudoku_with_lcv(sudoku_board, sudoku_csp):\n",
        "    for row in sudoku_board:\n",
        "        print(row)\n",
        "else:\n",
        "    print(\"Pas de solution\")\n"
      ],
      "metadata": {
        "colab": {
          "base_uri": "https://localhost:8080/"
        },
        "id": "V77QTqg-bNFf",
        "outputId": "65fe21b3-529f-4719-89d3-4dfabf020c53"
      },
      "id": "V77QTqg-bNFf",
      "execution_count": null,
      "outputs": [
        {
          "output_type": "stream",
          "name": "stdout",
          "text": [
            "[9, 6, 3, 1, 7, 4, 2, 5, 8]\n",
            "[1, 7, 8, 3, 2, 5, 6, 4, 9]\n",
            "[2, 5, 4, 6, 8, 9, 7, 3, 1]\n",
            "[8, 2, 1, 4, 3, 7, 5, 9, 6]\n",
            "[4, 9, 6, 8, 5, 2, 3, 1, 7]\n",
            "[7, 3, 5, 9, 6, 1, 8, 2, 4]\n",
            "[5, 8, 9, 7, 1, 3, 4, 6, 2]\n",
            "[3, 1, 7, 2, 4, 6, 9, 8, 5]\n",
            "[6, 4, 2, 5, 9, 8, 1, 7, 3]\n"
          ]
        }
      ]
    },
    {
      "cell_type": "code",
      "source": [
        "import time\n",
        "\n",
        "# Function to measure time and solve Sudoku\n",
        "def measure_time_and_solve(solver_function, board, sudoku_csp):\n",
        "    start_time = time.time()\n",
        "    result = solver_function(board, sudoku_csp)\n",
        "    end_time = time.time()\n",
        "    elapsed_time = end_time - start_time\n",
        "\n",
        "    if result:\n",
        "        print(f\"Sudoku solved in {elapsed_time:.6f} seconds\")\n",
        "    else:\n",
        "        print(\"Unable to solve Sudoku\")\n",
        "\n",
        "\n",
        "\n",
        "# Measure time for solve_sudoku\n",
        "measure_time_and_solve(solve_sudoku, sudoku_board.copy(), sudoku_csp)\n",
        "\n",
        "# Measure time for solve_sudoku_with_mrv\n",
        "measure_time_and_solve(solve_sudoku_with_mrv, sudoku_board.copy(), sudoku_csp)\n",
        "\n",
        "# Measure time for solve_sudoku_with_lcv\n",
        "measure_time_and_solve(solve_sudoku_with_lcv, sudoku_board.copy(), sudoku_csp)\n"
      ],
      "metadata": {
        "colab": {
          "base_uri": "https://localhost:8080/"
        },
        "id": "3H_Vv5rtoGX5",
        "outputId": "b0326f61-624a-4362-e648-1997f510eb54"
      },
      "id": "3H_Vv5rtoGX5",
      "execution_count": null,
      "outputs": [
        {
          "output_type": "stream",
          "name": "stdout",
          "text": [
            "Sudoku solved in 0.000020 seconds\n",
            "Sudoku solved in 0.000018 seconds\n",
            "Sudoku solved in 0.000018 seconds\n"
          ]
        }
      ]
    }
  ],
  "metadata": {
    "kernelspec": {
      "display_name": "Python 3 (ipykernel)",
      "language": "python",
      "name": "python3"
    },
    "language_info": {
      "codemirror_mode": {
        "name": "ipython",
        "version": 3
      },
      "file_extension": ".py",
      "mimetype": "text/x-python",
      "name": "python",
      "nbconvert_exporter": "python",
      "pygments_lexer": "ipython3",
      "version": "3.7.2"
    },
    "colab": {
      "provenance": []
    }
  },
  "nbformat": 4,
  "nbformat_minor": 5
}