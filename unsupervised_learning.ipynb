{
  "nbformat": 4,
  "nbformat_minor": 0,
  "metadata": {
    "colab": {
      "provenance": []
    },
    "kernelspec": {
      "name": "python3",
      "display_name": "Python 3"
    },
    "language_info": {
      "name": "python"
    }
  },
  "cells": [
    {
      "cell_type": "code",
      "execution_count": null,
      "metadata": {
        "colab": {
          "base_uri": "https://localhost:8080/"
        },
        "id": "LK4_rju1uN1U",
        "outputId": "a5fd3624-1887-47b5-9d4c-c1666ca3c22d"
      },
      "outputs": [
        {
          "output_type": "stream",
          "name": "stdout",
          "text": [
            "         calories      sodium     calcium    lipides     retinol    folates  \\\n",
            "count   29.000000   29.000000   29.000000  29.000000   29.000000  29.000000   \n",
            "mean   300.034483  210.086207  185.734483  24.158621   67.562069  13.010345   \n",
            "std     91.914356  108.678923   72.528882   8.129642   24.163098  11.723339   \n",
            "min     70.000000   22.000000   72.600000   3.400000   37.100000   1.200000   \n",
            "25%    292.000000  140.000000  132.900000  23.400000   51.600000   4.900000   \n",
            "50%    321.000000  223.000000  202.300000  26.300000   62.300000   6.400000   \n",
            "75%    355.000000  276.000000  220.500000  29.100000   76.400000  21.100000   \n",
            "max    406.000000  432.000000  334.600000  33.300000  150.500000  36.400000   \n",
            "\n",
            "       proteines  cholesterol  magnesium  \n",
            "count  29.000000    29.000000  29.000000  \n",
            "mean   20.168966    74.586207  26.965517  \n",
            "std     6.959788    28.245755  11.318388  \n",
            "min     4.100000    10.000000  10.000000  \n",
            "25%    17.800000    70.000000  20.000000  \n",
            "50%    21.000000    80.000000  26.000000  \n",
            "75%    23.400000    90.000000  30.000000  \n",
            "max    35.700000   120.000000  51.000000  \n"
          ]
        }
      ],
      "source": [
        "import pandas as pd\n",
        "# Read data from the \"fromage1.txt\" file using pandas read_table function\n",
        "# Set the separator to \"\\t\" (tab), header to the first row (index 0), and use the first column as the index\n",
        "fromage=pd.read_table(r\"fromage1.txt\",sep=\"\\t\",header=0,index_col=0)\n",
        "# Print the descriptive statistics of the 'fromage' DataFrame\n",
        "print(fromage.describe())"
      ]
    },
    {
      "cell_type": "code",
      "source": [
        "fromage.head()"
      ],
      "metadata": {
        "colab": {
          "base_uri": "https://localhost:8080/",
          "height": 258
        },
        "id": "HFqyWTVnwFt8",
        "outputId": "c1f3239b-4fbe-40b7-efc2-77669f294e89"
      },
      "execution_count": null,
      "outputs": [
        {
          "output_type": "execute_result",
          "data": {
            "text/plain": [
              "             calories  sodium  calcium  lipides  retinol  folates  proteines  \\\n",
              "Fromages                                                                       \n",
              "CarredelEst       314   353.5     72.6     26.3     51.6     30.3       21.0   \n",
              "Babybel           314   238.0    209.8     25.1     63.7      6.4       22.6   \n",
              "Beaufort          401   112.0    259.4     33.3     54.9      1.2       26.6   \n",
              "Bleu              342   336.0    211.1     28.9     37.1     27.5       20.2   \n",
              "Camembert         264   314.0    215.9     19.5    103.0     36.4       23.4   \n",
              "\n",
              "             cholesterol  magnesium  \n",
              "Fromages                             \n",
              "CarredelEst           70         20  \n",
              "Babybel               70         27  \n",
              "Beaufort             120         41  \n",
              "Bleu                  90         27  \n",
              "Camembert             60         20  "
            ],
            "text/html": [
              "\n",
              "  <div id=\"df-b15b3b69-b5b4-4ad8-80d2-dc7d4a37c99b\" class=\"colab-df-container\">\n",
              "    <div>\n",
              "<style scoped>\n",
              "    .dataframe tbody tr th:only-of-type {\n",
              "        vertical-align: middle;\n",
              "    }\n",
              "\n",
              "    .dataframe tbody tr th {\n",
              "        vertical-align: top;\n",
              "    }\n",
              "\n",
              "    .dataframe thead th {\n",
              "        text-align: right;\n",
              "    }\n",
              "</style>\n",
              "<table border=\"1\" class=\"dataframe\">\n",
              "  <thead>\n",
              "    <tr style=\"text-align: right;\">\n",
              "      <th></th>\n",
              "      <th>calories</th>\n",
              "      <th>sodium</th>\n",
              "      <th>calcium</th>\n",
              "      <th>lipides</th>\n",
              "      <th>retinol</th>\n",
              "      <th>folates</th>\n",
              "      <th>proteines</th>\n",
              "      <th>cholesterol</th>\n",
              "      <th>magnesium</th>\n",
              "    </tr>\n",
              "    <tr>\n",
              "      <th>Fromages</th>\n",
              "      <th></th>\n",
              "      <th></th>\n",
              "      <th></th>\n",
              "      <th></th>\n",
              "      <th></th>\n",
              "      <th></th>\n",
              "      <th></th>\n",
              "      <th></th>\n",
              "      <th></th>\n",
              "    </tr>\n",
              "  </thead>\n",
              "  <tbody>\n",
              "    <tr>\n",
              "      <th>CarredelEst</th>\n",
              "      <td>314</td>\n",
              "      <td>353.5</td>\n",
              "      <td>72.6</td>\n",
              "      <td>26.3</td>\n",
              "      <td>51.6</td>\n",
              "      <td>30.3</td>\n",
              "      <td>21.0</td>\n",
              "      <td>70</td>\n",
              "      <td>20</td>\n",
              "    </tr>\n",
              "    <tr>\n",
              "      <th>Babybel</th>\n",
              "      <td>314</td>\n",
              "      <td>238.0</td>\n",
              "      <td>209.8</td>\n",
              "      <td>25.1</td>\n",
              "      <td>63.7</td>\n",
              "      <td>6.4</td>\n",
              "      <td>22.6</td>\n",
              "      <td>70</td>\n",
              "      <td>27</td>\n",
              "    </tr>\n",
              "    <tr>\n",
              "      <th>Beaufort</th>\n",
              "      <td>401</td>\n",
              "      <td>112.0</td>\n",
              "      <td>259.4</td>\n",
              "      <td>33.3</td>\n",
              "      <td>54.9</td>\n",
              "      <td>1.2</td>\n",
              "      <td>26.6</td>\n",
              "      <td>120</td>\n",
              "      <td>41</td>\n",
              "    </tr>\n",
              "    <tr>\n",
              "      <th>Bleu</th>\n",
              "      <td>342</td>\n",
              "      <td>336.0</td>\n",
              "      <td>211.1</td>\n",
              "      <td>28.9</td>\n",
              "      <td>37.1</td>\n",
              "      <td>27.5</td>\n",
              "      <td>20.2</td>\n",
              "      <td>90</td>\n",
              "      <td>27</td>\n",
              "    </tr>\n",
              "    <tr>\n",
              "      <th>Camembert</th>\n",
              "      <td>264</td>\n",
              "      <td>314.0</td>\n",
              "      <td>215.9</td>\n",
              "      <td>19.5</td>\n",
              "      <td>103.0</td>\n",
              "      <td>36.4</td>\n",
              "      <td>23.4</td>\n",
              "      <td>60</td>\n",
              "      <td>20</td>\n",
              "    </tr>\n",
              "  </tbody>\n",
              "</table>\n",
              "</div>\n",
              "    <div class=\"colab-df-buttons\">\n",
              "\n",
              "  <div class=\"colab-df-container\">\n",
              "    <button class=\"colab-df-convert\" onclick=\"convertToInteractive('df-b15b3b69-b5b4-4ad8-80d2-dc7d4a37c99b')\"\n",
              "            title=\"Convert this dataframe to an interactive table.\"\n",
              "            style=\"display:none;\">\n",
              "\n",
              "  <svg xmlns=\"http://www.w3.org/2000/svg\" height=\"24px\" viewBox=\"0 -960 960 960\">\n",
              "    <path d=\"M120-120v-720h720v720H120Zm60-500h600v-160H180v160Zm220 220h160v-160H400v160Zm0 220h160v-160H400v160ZM180-400h160v-160H180v160Zm440 0h160v-160H620v160ZM180-180h160v-160H180v160Zm440 0h160v-160H620v160Z\"/>\n",
              "  </svg>\n",
              "    </button>\n",
              "\n",
              "  <style>\n",
              "    .colab-df-container {\n",
              "      display:flex;\n",
              "      gap: 12px;\n",
              "    }\n",
              "\n",
              "    .colab-df-convert {\n",
              "      background-color: #E8F0FE;\n",
              "      border: none;\n",
              "      border-radius: 50%;\n",
              "      cursor: pointer;\n",
              "      display: none;\n",
              "      fill: #1967D2;\n",
              "      height: 32px;\n",
              "      padding: 0 0 0 0;\n",
              "      width: 32px;\n",
              "    }\n",
              "\n",
              "    .colab-df-convert:hover {\n",
              "      background-color: #E2EBFA;\n",
              "      box-shadow: 0px 1px 2px rgba(60, 64, 67, 0.3), 0px 1px 3px 1px rgba(60, 64, 67, 0.15);\n",
              "      fill: #174EA6;\n",
              "    }\n",
              "\n",
              "    .colab-df-buttons div {\n",
              "      margin-bottom: 4px;\n",
              "    }\n",
              "\n",
              "    [theme=dark] .colab-df-convert {\n",
              "      background-color: #3B4455;\n",
              "      fill: #D2E3FC;\n",
              "    }\n",
              "\n",
              "    [theme=dark] .colab-df-convert:hover {\n",
              "      background-color: #434B5C;\n",
              "      box-shadow: 0px 1px 3px 1px rgba(0, 0, 0, 0.15);\n",
              "      filter: drop-shadow(0px 1px 2px rgba(0, 0, 0, 0.3));\n",
              "      fill: #FFFFFF;\n",
              "    }\n",
              "  </style>\n",
              "\n",
              "    <script>\n",
              "      const buttonEl =\n",
              "        document.querySelector('#df-b15b3b69-b5b4-4ad8-80d2-dc7d4a37c99b button.colab-df-convert');\n",
              "      buttonEl.style.display =\n",
              "        google.colab.kernel.accessAllowed ? 'block' : 'none';\n",
              "\n",
              "      async function convertToInteractive(key) {\n",
              "        const element = document.querySelector('#df-b15b3b69-b5b4-4ad8-80d2-dc7d4a37c99b');\n",
              "        const dataTable =\n",
              "          await google.colab.kernel.invokeFunction('convertToInteractive',\n",
              "                                                    [key], {});\n",
              "        if (!dataTable) return;\n",
              "\n",
              "        const docLinkHtml = 'Like what you see? Visit the ' +\n",
              "          '<a target=\"_blank\" href=https://colab.research.google.com/notebooks/data_table.ipynb>data table notebook</a>'\n",
              "          + ' to learn more about interactive tables.';\n",
              "        element.innerHTML = '';\n",
              "        dataTable['output_type'] = 'display_data';\n",
              "        await google.colab.output.renderOutput(dataTable, element);\n",
              "        const docLink = document.createElement('div');\n",
              "        docLink.innerHTML = docLinkHtml;\n",
              "        element.appendChild(docLink);\n",
              "      }\n",
              "    </script>\n",
              "  </div>\n",
              "\n",
              "\n",
              "<div id=\"df-84230638-ab03-44b0-9b3b-d0e986286037\">\n",
              "  <button class=\"colab-df-quickchart\" onclick=\"quickchart('df-84230638-ab03-44b0-9b3b-d0e986286037')\"\n",
              "            title=\"Suggest charts\"\n",
              "            style=\"display:none;\">\n",
              "\n",
              "<svg xmlns=\"http://www.w3.org/2000/svg\" height=\"24px\"viewBox=\"0 0 24 24\"\n",
              "     width=\"24px\">\n",
              "    <g>\n",
              "        <path d=\"M19 3H5c-1.1 0-2 .9-2 2v14c0 1.1.9 2 2 2h14c1.1 0 2-.9 2-2V5c0-1.1-.9-2-2-2zM9 17H7v-7h2v7zm4 0h-2V7h2v10zm4 0h-2v-4h2v4z\"/>\n",
              "    </g>\n",
              "</svg>\n",
              "  </button>\n",
              "\n",
              "<style>\n",
              "  .colab-df-quickchart {\n",
              "      --bg-color: #E8F0FE;\n",
              "      --fill-color: #1967D2;\n",
              "      --hover-bg-color: #E2EBFA;\n",
              "      --hover-fill-color: #174EA6;\n",
              "      --disabled-fill-color: #AAA;\n",
              "      --disabled-bg-color: #DDD;\n",
              "  }\n",
              "\n",
              "  [theme=dark] .colab-df-quickchart {\n",
              "      --bg-color: #3B4455;\n",
              "      --fill-color: #D2E3FC;\n",
              "      --hover-bg-color: #434B5C;\n",
              "      --hover-fill-color: #FFFFFF;\n",
              "      --disabled-bg-color: #3B4455;\n",
              "      --disabled-fill-color: #666;\n",
              "  }\n",
              "\n",
              "  .colab-df-quickchart {\n",
              "    background-color: var(--bg-color);\n",
              "    border: none;\n",
              "    border-radius: 50%;\n",
              "    cursor: pointer;\n",
              "    display: none;\n",
              "    fill: var(--fill-color);\n",
              "    height: 32px;\n",
              "    padding: 0;\n",
              "    width: 32px;\n",
              "  }\n",
              "\n",
              "  .colab-df-quickchart:hover {\n",
              "    background-color: var(--hover-bg-color);\n",
              "    box-shadow: 0 1px 2px rgba(60, 64, 67, 0.3), 0 1px 3px 1px rgba(60, 64, 67, 0.15);\n",
              "    fill: var(--button-hover-fill-color);\n",
              "  }\n",
              "\n",
              "  .colab-df-quickchart-complete:disabled,\n",
              "  .colab-df-quickchart-complete:disabled:hover {\n",
              "    background-color: var(--disabled-bg-color);\n",
              "    fill: var(--disabled-fill-color);\n",
              "    box-shadow: none;\n",
              "  }\n",
              "\n",
              "  .colab-df-spinner {\n",
              "    border: 2px solid var(--fill-color);\n",
              "    border-color: transparent;\n",
              "    border-bottom-color: var(--fill-color);\n",
              "    animation:\n",
              "      spin 1s steps(1) infinite;\n",
              "  }\n",
              "\n",
              "  @keyframes spin {\n",
              "    0% {\n",
              "      border-color: transparent;\n",
              "      border-bottom-color: var(--fill-color);\n",
              "      border-left-color: var(--fill-color);\n",
              "    }\n",
              "    20% {\n",
              "      border-color: transparent;\n",
              "      border-left-color: var(--fill-color);\n",
              "      border-top-color: var(--fill-color);\n",
              "    }\n",
              "    30% {\n",
              "      border-color: transparent;\n",
              "      border-left-color: var(--fill-color);\n",
              "      border-top-color: var(--fill-color);\n",
              "      border-right-color: var(--fill-color);\n",
              "    }\n",
              "    40% {\n",
              "      border-color: transparent;\n",
              "      border-right-color: var(--fill-color);\n",
              "      border-top-color: var(--fill-color);\n",
              "    }\n",
              "    60% {\n",
              "      border-color: transparent;\n",
              "      border-right-color: var(--fill-color);\n",
              "    }\n",
              "    80% {\n",
              "      border-color: transparent;\n",
              "      border-right-color: var(--fill-color);\n",
              "      border-bottom-color: var(--fill-color);\n",
              "    }\n",
              "    90% {\n",
              "      border-color: transparent;\n",
              "      border-bottom-color: var(--fill-color);\n",
              "    }\n",
              "  }\n",
              "</style>\n",
              "\n",
              "  <script>\n",
              "    async function quickchart(key) {\n",
              "      const quickchartButtonEl =\n",
              "        document.querySelector('#' + key + ' button');\n",
              "      quickchartButtonEl.disabled = true;  // To prevent multiple clicks.\n",
              "      quickchartButtonEl.classList.add('colab-df-spinner');\n",
              "      try {\n",
              "        const charts = await google.colab.kernel.invokeFunction(\n",
              "            'suggestCharts', [key], {});\n",
              "      } catch (error) {\n",
              "        console.error('Error during call to suggestCharts:', error);\n",
              "      }\n",
              "      quickchartButtonEl.classList.remove('colab-df-spinner');\n",
              "      quickchartButtonEl.classList.add('colab-df-quickchart-complete');\n",
              "    }\n",
              "    (() => {\n",
              "      let quickchartButtonEl =\n",
              "        document.querySelector('#df-84230638-ab03-44b0-9b3b-d0e986286037 button');\n",
              "      quickchartButtonEl.style.display =\n",
              "        google.colab.kernel.accessAllowed ? 'block' : 'none';\n",
              "    })();\n",
              "  </script>\n",
              "</div>\n",
              "    </div>\n",
              "  </div>\n"
            ]
          },
          "metadata": {},
          "execution_count": 13
        }
      ]
    },
    {
      "source": [
        "from matplotlib import pyplot as plt\n",
        "import seaborn as sns\n",
        "\n",
        "# Group the '_df_21' DataFrame by the 'Fromages' column and plot the count of each group in horizontal bar chart\n",
        "fromage.groupby('Fromages').size().plot(kind='barh', color=sns.palettes.mpl_palette('Dark2'))\n",
        "# Remove the top and right spines from the plot for a cleaner appearance\n",
        "plt.gca().spines[['top', 'right',]].set_visible(False)"
      ],
      "cell_type": "code",
      "metadata": {
        "id": "Jw-UQfkXz4RO",
        "colab": {
          "base_uri": "https://localhost:8080/",
          "height": 430
        },
        "outputId": "aa7cabce-4c38-4f41-bb83-91e643df4975"
      },
      "execution_count": null,
      "outputs": [
        {
          "output_type": "display_data",
          "data": {
            "text/plain": [
              "<Figure size 640x480 with 1 Axes>"
            ],
            "image/png": "[encoded data removed]"
          },
          "metadata": {}
        }
      ]
    },
    {
      "cell_type": "code",
      "source": [
        "import numpy as np\n",
        "from sklearn import cluster\n",
        "# Set the random seed for reproducibility\n",
        "np.random.seed(0)\n",
        "# Create a KMeans clustering model with 5 clusters\n",
        "kmeans = cluster.KMeans(n_clusters = 5)\n",
        "# Fit the KMeans model to the 'fromage' data\n",
        "kmeans.fit(fromage)\n",
        "# Sort the indices based on the cluster labels and print the corresponding DataFrame\n",
        "idk = np.argsort(kmeans.labels_)\n",
        "print(pd.DataFrame(fromage.index[idk],kmeans.labels_[idk]))\n",
        "# Print the transformed distances of each sample to the cluster centers\n",
        "print(kmeans.transform(fromage))"
      ],
      "metadata": {
        "colab": {
          "base_uri": "https://localhost:8080/"
        },
        "id": "Xq9gpVTA0SDe",
        "outputId": "21915184-e2ac-4e5b-ce80-a71cc4dd72b0"
      },
      "execution_count": null,
      "outputs": [
        {
          "output_type": "stream",
          "name": "stdout",
          "text": [
            "             Fromages\n",
            "0            Emmental\n",
            "0            Beaufort\n",
            "0            Vacherin\n",
            "0             Cheddar\n",
            "0               Comte\n",
            "0                Edam\n",
            "1           Reblochon\n",
            "1            Pyrenees\n",
            "1            Parmesan\n",
            "1             Morbier\n",
            "1           Maroilles\n",
            "1         SaintPaulin\n",
            "1              Cantal\n",
            "1           Camembert\n",
            "1                Bleu\n",
            "1             Babybel\n",
            "2      Fr.frais20nat.\n",
            "2      Fr.frais40nat.\n",
            "2       Petitsuisse40\n",
            "2  Yaourtlaitent.nat.\n",
            "3                Tome\n",
            "3  Fr.chevrepatemolle\n",
            "3            Chaource\n",
            "3           Chabichou\n",
            "3         PontlEveque\n",
            "3         Coulomniers\n",
            "4         CarredelEst\n",
            "4          Rocquefort\n",
            "4         Fr.fondu.45\n",
            "[[298.50120835 184.40132646 384.27301005 144.19668281  78.00828304]\n",
            " [139.99964782  44.16198818 303.10311983 108.34460454 172.57012745]\n",
            " [ 38.57004091 179.08848428 349.91323389 223.82195305 319.72032918]\n",
            " [223.14028784  78.60472759 393.76898843 170.32549232 103.33609674]\n",
            " [234.87900727  98.30040285 332.43471728 147.16299354 135.59472294]\n",
            " [138.46426033  52.06402981 371.97076666 180.9551694  194.37161716]\n",
            " [181.39183569 169.79224717 298.65300308  64.64856276 208.52210648]\n",
            " [219.62017528 123.04371256 311.48990553  66.94868682 130.31703223]\n",
            " [ 89.43607432 136.77071031 348.48685233 148.69176171 241.48250224]\n",
            " [ 50.14975629 195.63170295 333.83554522 211.39484383 325.25538513]\n",
            " [207.32987738 164.03470121 285.29211565  43.28691103 179.83947163]\n",
            " [ 65.07112562 128.00301246 293.81905359 185.34102802 281.3169308 ]\n",
            " [ 89.49859248 229.56200295 343.1669947  275.67092701 380.88389161]\n",
            " [266.44478113 250.41435502 195.86579908 131.88253612 281.78987246]\n",
            " [294.09844393 144.61985756 400.47054979 180.50381344  50.57373055]\n",
            " [334.63622247 359.21505703  27.57918146 293.34756973 435.3698951 ]\n",
            " [323.74277555 359.44650395  48.43507252 271.92034373 428.49162445]\n",
            " [194.43303403  48.68594458 379.74839203 170.56150406 135.4780138 ]\n",
            " [169.95463529  27.83697541 360.87135    142.61107951 139.39150699]\n",
            " [155.70961667 121.24601932 405.05415842 244.60143772 260.02747718]\n",
            " [314.22707509 354.22775893  73.02996816 260.23630287 421.56878706]\n",
            " [157.22978319  96.47487341 273.9400961   62.82205027 173.88400987]\n",
            " [131.69179191  71.84854348 327.69454718 103.00799322 170.29341998]\n",
            " [171.67876414  40.04915979 323.02206001 109.96173577 139.25516946]\n",
            " [323.28124194 184.55293875 480.78906108 232.28490409  70.49339607]\n",
            " [119.43972562  78.26830265 289.74900561 156.38315127 228.1354544 ]\n",
            " [186.37173799 110.24783535 309.5039923   54.5386713  140.84932454]\n",
            " [ 66.6233797  131.35819426 263.14012664 145.48569231 266.71577048]\n",
            " [321.16585236 326.30449461 101.24362326 292.59960697 410.6120337 ]]\n"
          ]
        },
        {
          "output_type": "stream",
          "name": "stderr",
          "text": [
            "/usr/local/lib/python3.10/dist-packages/sklearn/cluster/_kmeans.py:870: FutureWarning: The default value of `n_init` will change from 10 to 'auto' in 1.4. Set the value of `n_init` explicitly to suppress the warning\n",
            "  warnings.warn(\n"
          ]
        }
      ]
    },
    {
      "cell_type": "code",
      "source": [
        "from sklearn import metrics\n",
        "# Create an array to store silhouette scores for different cluster numbers\n",
        "res = np.arange(9, dtype =\"double\")\n",
        "# Iterate over different numbers of clusters and calculate silhouette score for each\n",
        "for k in np.arange(9):\n",
        " km = cluster.KMeans(n_clusters = k+2)\n",
        " km.fit(fromage)\n",
        " res[k] = metrics.silhouette_score(fromage,km.labels_)\n",
        "print (res)\n",
        "# Plot the silhouette scores against the number of clusters\n",
        "import matplotlib.pyplot as plt\n",
        "plt.title(\"silhouette\")\n",
        "plt.xlabel(\"# of clusters\")\n",
        "plt.plot(np.arange(2,11,1),(res))\n",
        "plt.show"
      ],
      "metadata": {
        "colab": {
          "base_uri": "https://localhost:8080/",
          "height": 867
        },
        "id": "dnu9amJp1Scu",
        "outputId": "55c7cc1c-3c37-4817-f93e-fb2953a3450b"
      },
      "execution_count": null,
      "outputs": [
        {
          "output_type": "stream",
          "name": "stderr",
          "text": [
            "/usr/local/lib/python3.10/dist-packages/sklearn/cluster/_kmeans.py:870: FutureWarning: The default value of `n_init` will change from 10 to 'auto' in 1.4. Set the value of `n_init` explicitly to suppress the warning\n",
            "  warnings.warn(\n",
            "/usr/local/lib/python3.10/dist-packages/sklearn/cluster/_kmeans.py:870: FutureWarning: The default value of `n_init` will change from 10 to 'auto' in 1.4. Set the value of `n_init` explicitly to suppress the warning\n",
            "  warnings.warn(\n",
            "/usr/local/lib/python3.10/dist-packages/sklearn/cluster/_kmeans.py:870: FutureWarning: The default value of `n_init` will change from 10 to 'auto' in 1.4. Set the value of `n_init` explicitly to suppress the warning\n",
            "  warnings.warn(\n",
            "/usr/local/lib/python3.10/dist-packages/sklearn/cluster/_kmeans.py:870: FutureWarning: The default value of `n_init` will change from 10 to 'auto' in 1.4. Set the value of `n_init` explicitly to suppress the warning\n",
            "  warnings.warn(\n",
            "/usr/local/lib/python3.10/dist-packages/sklearn/cluster/_kmeans.py:870: FutureWarning: The default value of `n_init` will change from 10 to 'auto' in 1.4. Set the value of `n_init` explicitly to suppress the warning\n",
            "  warnings.warn(\n",
            "/usr/local/lib/python3.10/dist-packages/sklearn/cluster/_kmeans.py:870: FutureWarning: The default value of `n_init` will change from 10 to 'auto' in 1.4. Set the value of `n_init` explicitly to suppress the warning\n",
            "  warnings.warn(\n",
            "/usr/local/lib/python3.10/dist-packages/sklearn/cluster/_kmeans.py:870: FutureWarning: The default value of `n_init` will change from 10 to 'auto' in 1.4. Set the value of `n_init` explicitly to suppress the warning\n",
            "  warnings.warn(\n",
            "/usr/local/lib/python3.10/dist-packages/sklearn/cluster/_kmeans.py:870: FutureWarning: The default value of `n_init` will change from 10 to 'auto' in 1.4. Set the value of `n_init` explicitly to suppress the warning\n",
            "  warnings.warn(\n",
            "/usr/local/lib/python3.10/dist-packages/sklearn/cluster/_kmeans.py:870: FutureWarning: The default value of `n_init` will change from 10 to 'auto' in 1.4. Set the value of `n_init` explicitly to suppress the warning\n",
            "  warnings.warn(\n"
          ]
        },
        {
          "output_type": "stream",
          "name": "stdout",
          "text": [
            "[0.50681355 0.37299771 0.31699678 0.35737616 0.32609984 0.28416085\n",
            " 0.27393823 0.28357826 0.27660729]\n"
          ]
        },
        {
          "output_type": "execute_result",
          "data": {
            "text/plain": [
              "<function matplotlib.pyplot.show(close=None, block=None)>"
            ]
          },
          "metadata": {},
          "execution_count": 17
        },
        {
          "output_type": "display_data",
          "data": {
            "text/plain": [
              "<Figure size 640x480 with 1 Axes>"
            ],
            "image/png": "[encoded data removed]"
          },
          "metadata": {}
        }
      ]
    },
    {
      "cell_type": "code",
      "source": [
        "import pandas\n",
        "import numpy as np\n",
        "#librairies pour la CAH\n",
        "from matplotlib import pyplot as plt\n",
        "from scipy.cluster.hierarchy import dendrogram, linkage, fcluster\n",
        "# Create linkage matrix using Ward's method and Euclidean distance\n",
        "Z = linkage(fromage,method='ward', metric='euclidean')\n",
        "# Display the dendrogram\n",
        "plt.title(\"CAH\")\n",
        "plt.title('CAH avec matérialisation des 4 classes')\n",
        "dendrogram(Z,labels=fromage.index,orientation='left',color_threshold=250)\n",
        "plt.show()\n",
        "# Assign observations to clusters using a distance threshold of 250\n",
        "groupes_cah = fcluster(Z, t = 250,criterion='distance')\n",
        "print(groupes_cah)\n",
        "# Sorted indices of the groups\n",
        "idg = np.argsort(groupes_cah)\n",
        "# Display observations and their corresponding groups\n",
        "print(pandas.DataFrame(fromage.index[idg],groupes_cah[idg]))"
      ],
      "metadata": {
        "colab": {
          "base_uri": "https://localhost:8080/",
          "height": 1000
        },
        "id": "VtbxnkNa4zvU",
        "outputId": "cf83f014-d19c-48c9-dd82-61a863fe7da4"
      },
      "execution_count": null,
      "outputs": [
        {
          "output_type": "display_data",
          "data": {
            "text/plain": [
              "<Figure size 640x480 with 1 Axes>"
            ],
            "image/png": "[encoded data removed]"
          },
          "metadata": {}
        },
        {
          "output_type": "stream",
          "name": "stdout",
          "text": [
            "[3 4 2 3 3 2 4 4 2 2 4 2 2 4 3 1 1 3 3 2 1 4 4 4 3 2 4 2 1]\n",
            "             Fromages\n",
            "1  Yaourtlaitent.nat.\n",
            "1       Petitsuisse40\n",
            "1      Fr.frais40nat.\n",
            "1      Fr.frais20nat.\n",
            "2         SaintPaulin\n",
            "2            Beaufort\n",
            "2              Cantal\n",
            "2            Parmesan\n",
            "2             Cheddar\n",
            "2               Comte\n",
            "2                Edam\n",
            "2            Emmental\n",
            "2            Vacherin\n",
            "3          Rocquefort\n",
            "3             Morbier\n",
            "3           Maroilles\n",
            "3         CarredelEst\n",
            "3           Camembert\n",
            "3                Bleu\n",
            "3         Fr.fondu.45\n",
            "4         Coulomniers\n",
            "4            Chaource\n",
            "4           Chabichou\n",
            "4         PontlEveque\n",
            "4            Pyrenees\n",
            "4           Reblochon\n",
            "4             Babybel\n",
            "4                Tome\n",
            "4  Fr.chevrepatemolle\n"
          ]
        }
      ]
    },
    {
      "cell_type": "code",
      "source": [
        "# Create a cross-tabulation (contingency table) between CAH clusters and KMeans clusters\n",
        "crosstab_result = pd.crosstab(\n",
        "    groupes_cah,\n",
        "    kmeans.labels_\n",
        ")\n",
        "\n",
        "# Display the result\n",
        "print(crosstab_result)"
      ],
      "metadata": {
        "colab": {
          "base_uri": "https://localhost:8080/"
        },
        "id": "5jfiNV8Y-Aw1",
        "outputId": "621bb34f-d99a-4935-e3d3-1db757a4ecc2"
      },
      "execution_count": null,
      "outputs": [
        {
          "output_type": "stream",
          "name": "stdout",
          "text": [
            "col_0  0  1  2  3  4\n",
            "row_0               \n",
            "1      0  0  4  0  0\n",
            "2      6  3  0  0  0\n",
            "3      0  4  0  0  3\n",
            "4      0  3  0  6  0\n"
          ]
        }
      ]
    },
    {
      "cell_type": "code",
      "source": [
        "from sklearn.decomposition import PCA\n",
        "# Perform Principal Component Analysis (PCA) with 2 components\n",
        "acp = PCA(n_components =2).fit_transform(fromage)\n",
        "# Scatter plot the data points with different colors based on KMeans cluster labels\n",
        "for couleur,k in zip(['red','blue','lawngreen', 'aqua','black'],[0,1,2,3,4]):\n",
        " plt.scatter(acp[kmeans.labels_==k,0],acp[kmeans.labels_==k,1],c=couleur)\n",
        "# Show the plot\n",
        "plt.show()"
      ],
      "metadata": {
        "colab": {
          "base_uri": "https://localhost:8080/",
          "height": 430
        },
        "id": "_6jqfYZL9BZS",
        "outputId": "177b3182-f94a-4ad0-8d1f-f93837e1b762"
      },
      "execution_count": null,
      "outputs": [
        {
          "output_type": "display_data",
          "data": {
            "text/plain": [
              "<Figure size 640x480 with 1 Axes>"
            ],
            "image/png": "[encoded data removed]"
          },
          "metadata": {}
        }
      ]
    },
    {
      "cell_type": "code",
      "source": [
        "from sklearn.cluster import AgglomerativeClustering\n",
        "\n",
        "n_clusters_cah = 4  # Choisissez le nombre de clusters souhaité\n",
        "cah_model = AgglomerativeClustering(n_clusters=n_clusters_cah, linkage='ward')\n",
        "labels_cah = cah_model.fit_predict(fromage)\n",
        "\n",
        "# Afficher les résultats\n",
        "result_cah = pd.DataFrame(fromage.index, labels_cah, columns=['Fromages'])\n",
        "result_cah = result_cah.sort_index()\n",
        "print(result_cah)"
      ],
      "metadata": {
        "colab": {
          "base_uri": "https://localhost:8080/"
        },
        "id": "8Ds1xbD_Plr_",
        "outputId": "ea6a97b6-f212-44ec-832f-f85fc3ab25ae"
      },
      "execution_count": null,
      "outputs": [
        {
          "output_type": "stream",
          "name": "stdout",
          "text": [
            "             Fromages\n",
            "0         SaintPaulin\n",
            "0            Beaufort\n",
            "0            Parmesan\n",
            "0              Cantal\n",
            "0             Cheddar\n",
            "0               Comte\n",
            "0            Vacherin\n",
            "0                Edam\n",
            "0            Emmental\n",
            "1         CarredelEst\n",
            "1          Rocquefort\n",
            "1             Morbier\n",
            "1           Maroilles\n",
            "1         Fr.fondu.45\n",
            "1           Camembert\n",
            "1                Bleu\n",
            "2         Coulomniers\n",
            "2            Chaource\n",
            "2           Chabichou\n",
            "2         PontlEveque\n",
            "2            Pyrenees\n",
            "2           Reblochon\n",
            "2             Babybel\n",
            "2                Tome\n",
            "2  Fr.chevrepatemolle\n",
            "3      Fr.frais20nat.\n",
            "3      Fr.frais40nat.\n",
            "3       Petitsuisse40\n",
            "3  Yaourtlaitent.nat.\n"
          ]
        }
      ]
    },
    {
      "cell_type": "code",
      "source": [
        "# Create a cross-tabulation (contingency table) between CAH clusters and KMeans clusters\n",
        "crosstab_result = pd.crosstab(\n",
        "    labels_cah,\n",
        "    groupes_cah\n",
        ")\n",
        "\n",
        "# Display the result\n",
        "print(crosstab_result)"
      ],
      "metadata": {
        "colab": {
          "base_uri": "https://localhost:8080/"
        },
        "id": "W1OewlPaT1_V",
        "outputId": "84c07fd5-793d-4c31-e00a-885756b2c750"
      },
      "execution_count": null,
      "outputs": [
        {
          "output_type": "stream",
          "name": "stdout",
          "text": [
            "col_0  1  2  3  4\n",
            "row_0            \n",
            "0      0  9  0  0\n",
            "1      0  0  7  0\n",
            "2      0  0  0  9\n",
            "3      4  0  0  0\n"
          ]
        }
      ]
    },
    {
      "cell_type": "code",
      "source": [
        "crosstab_result = pd.crosstab(\n",
        "    labels_cah,\n",
        "    kmeans.labels_\n",
        ")\n",
        "\n",
        "# Display the result\n",
        "print(crosstab_result)"
      ],
      "metadata": {
        "id": "mQ4QWcv6Ura8",
        "colab": {
          "base_uri": "https://localhost:8080/"
        },
        "outputId": "a21008de-89a9-4908-d8e8-610e77c2e08f"
      },
      "execution_count": null,
      "outputs": [
        {
          "output_type": "stream",
          "name": "stdout",
          "text": [
            "col_0  0  1  2  3  4\n",
            "row_0               \n",
            "0      6  3  0  0  0\n",
            "1      0  4  0  0  3\n",
            "2      0  3  0  6  0\n",
            "3      0  0  4  0  0\n"
          ]
        }
      ]
    },
    {
      "cell_type": "code",
      "source": [
        "from scipy.spatial.distance import pdist, squareform\n",
        "\n",
        "def calculate_diameter(fromage, cluster):\n",
        "    distance_matrix = squareform(pdist(fromage.iloc[cluster], 'euclidean'))\n",
        "    return np.max(distance_matrix)\n",
        "\n",
        "def find_cluster_to_split(clusters, fromage):\n",
        "    max_diameter = float('-inf')\n",
        "    cluster_to_split = None\n",
        "\n",
        "    for cluster in clusters:\n",
        "        diameter = calculate_diameter(fromage, cluster)\n",
        "        if diameter > max_diameter:\n",
        "            max_diameter = diameter\n",
        "            cluster_to_split = cluster\n",
        "\n",
        "    return cluster_to_split"
      ],
      "metadata": {
        "id": "F9Qw3evfLzCA"
      },
      "execution_count": null,
      "outputs": []
    },
    {
      "cell_type": "code",
      "source": [
        "from sklearn.cluster import KMeans\n",
        "import numpy as np\n",
        "from scipy.cluster.hierarchy import dendrogram, linkage\n",
        "import matplotlib.pyplot as plt\n",
        "\n",
        "from sklearn.cluster import KMeans\n",
        "import numpy as np\n",
        "from scipy.cluster.hierarchy import dendrogram, linkage\n",
        "import matplotlib.pyplot as plt\n",
        "\n",
        "def divisive_kmeans_clustering(data, k, max_clusters=fromage.shape[0]):\n",
        "    clusters = [list(range(len(data)))]\n",
        "    linkage_matrix = []\n",
        "\n",
        "    while any(len(group) > 1 for group in clusters):\n",
        "        cluster_to_split = find_cluster_to_split(clusters, data)\n",
        "\n",
        "        kmeans = KMeans(n_clusters=k)\n",
        "        cluster_assignments = kmeans.fit_predict(data.iloc[cluster_to_split])\n",
        "        sub_clusters = [np.array(cluster_to_split)[cluster_assignments == i].tolist() for i in range(k)]\n",
        "\n",
        "        # Store linkage information for hierarchical clustering\n",
        "        parent_cluster_idx = clusters.index(cluster_to_split)\n",
        "        for i, sub_cluster in enumerate(sub_clusters):\n",
        "            child_cluster_idx = len(clusters) + i\n",
        "            linkage_matrix.append([parent_cluster_idx, child_cluster_idx, calculate_diameter(data, sub_cluster)])\n",
        "\n",
        "        clusters.remove(cluster_to_split)\n",
        "        clusters.extend(sub_clusters)\n",
        "        if len(clusters) == max_clusters:\n",
        "            break\n",
        "\n",
        "    # Create dendrogram\n",
        "    dendrogram(linkage(linkage_matrix))\n",
        "    plt.show()\n",
        "\n",
        "    return clusters\n",
        "\n",
        "\n",
        "\n"
      ],
      "metadata": {
        "id": "rRchHlUxMauA"
      },
      "execution_count": null,
      "outputs": []
    },
    {
      "cell_type": "code",
      "source": [
        "resulting_clusters = divisive_kmeans_clustering(fromage, 2,3)\n",
        "\n",
        "# Map cluster IDs to cheese names\n",
        "cluster_mapping = {}\n",
        "for i, cluster in enumerate(resulting_clusters):\n",
        "    cluster_mapping[f\"Cluster {i + 1}\"] = fromage.index[cluster].tolist()\n",
        "\n",
        "# Print the resulting clusters with cheese names\n",
        "for cluster_id, cheeses in cluster_mapping.items():\n",
        "    print(f\"{cluster_id}: {', '.join(cheeses)}\")\n"
      ],
      "metadata": {
        "colab": {
          "base_uri": "https://localhost:8080/",
          "height": 575
        },
        "id": "3DKWDs83Mib6",
        "outputId": "36f0df34-304b-434d-e856-64a5eb043b9a"
      },
      "execution_count": null,
      "outputs": [
        {
          "output_type": "stream",
          "name": "stderr",
          "text": [
            "/usr/local/lib/python3.10/dist-packages/sklearn/cluster/_kmeans.py:870: FutureWarning: The default value of `n_init` will change from 10 to 'auto' in 1.4. Set the value of `n_init` explicitly to suppress the warning\n",
            "  warnings.warn(\n",
            "/usr/local/lib/python3.10/dist-packages/sklearn/cluster/_kmeans.py:870: FutureWarning: The default value of `n_init` will change from 10 to 'auto' in 1.4. Set the value of `n_init` explicitly to suppress the warning\n",
            "  warnings.warn(\n"
          ]
        },
        {
          "output_type": "display_data",
          "data": {
            "text/plain": [
              "<Figure size 640x480 with 1 Axes>"
            ],
            "image/png": "[encoded data removed]"
          },
          "metadata": {}
        },
        {
          "output_type": "stream",
          "name": "stdout",
          "text": [
            "Cluster 1: Fr.chevrepatemolle, Fr.frais20nat., Fr.frais40nat., Petitsuisse40, Yaourtlaitent.nat.\n",
            "Cluster 2: CarredelEst, Babybel, Bleu, Camembert, Chabichou, Chaource, Coulomniers, Fr.fondu.45, Maroilles, Morbier, PontlEveque, Pyrenees, Reblochon, Rocquefort, Tome\n",
            "Cluster 3: Beaufort, Cantal, Cheddar, Comte, Edam, Emmental, Parmesan, SaintPaulin, Vacherin\n"
          ]
        }
      ]
    },
    {
      "cell_type": "code",
      "source": [
        "\n",
        "def calculate_average_distance(fromage, cluster, i):\n",
        "    distance_matrix = squareform(pdist(fromage.iloc[cluster], 'euclidean'))\n",
        "    if len(cluster) > 1:\n",
        "        return np.linalg.norm(distance_matrix[i, :]) / (len(cluster) - 1)\n",
        "    else:\n",
        "        return 0.0\n",
        "\n",
        "def compute_dx(fromage, Ci, Cj):\n",
        "    dx_values = []\n",
        "    for i, x in enumerate(Ci):\n",
        "        avg_distance_x_Ci = calculate_average_distance(fromage, Ci, i)\n",
        "\n",
        "        avg_distance_x_Cj = calculate_average_distance(fromage, [x] + Cj, 0)\n",
        "\n",
        "        dx = avg_distance_x_Ci - avg_distance_x_Cj\n",
        "        dx_values.append(dx)\n",
        "    return dx_values\n",
        "\n",
        "def split_cluster(fromage, cluster):\n",
        "    Ci = cluster\n",
        "    Cj = []\n",
        "\n",
        "    while True:\n",
        "        dx_values = compute_dx(fromage, Ci, Cj)\n",
        "        if not dx_values:\n",
        "            break\n",
        "\n",
        "        max_dx_index = np.argmax(dx_values)\n",
        "        max_dx_value = dx_values[max_dx_index]\n",
        "\n",
        "        if max_dx_value <= 0:\n",
        "            break\n",
        "\n",
        "        x_to_move = Ci[max_dx_index]\n",
        "        Ci.remove(x_to_move)\n",
        "        Cj.append(x_to_move)\n",
        "\n",
        "    return Ci, Cj\n"
      ],
      "metadata": {
        "id": "r_Jld6ZtWa80"
      },
      "execution_count": null,
      "outputs": []
    },
    {
      "cell_type": "code",
      "source": [
        "def divisive_distance_clustering(fromage, max_clusters=fromage.shape[0]):\n",
        "    clusters = [list(range(len(fromage)))]\n",
        "\n",
        "    while any(len(cluster) > 1 for cluster in clusters):\n",
        "        print(\"cluster :\",clusters)\n",
        "        cluster_to_split = find_cluster_with_max_diameter(clusters,fromage)\n",
        "        print(cluster_to_split)\n",
        "        Ci, Cj = split_cluster(fromage, cluster_to_split)\n",
        "        clusters.remove(cluster_to_split)\n",
        "\n",
        "        if Ci:\n",
        "            clusters.append(Ci)\n",
        "        if Cj:\n",
        "            clusters.append(Cj)\n",
        "        if(len(clusters)==max_clusters):\n",
        "          break\n",
        "    return clusters"
      ],
      "metadata": {
        "id": "FkOQLqXPMYWF"
      },
      "execution_count": null,
      "outputs": []
    },
    {
      "cell_type": "code",
      "source": [
        "resulting_clusters = divisive_distance_clustering(fromage, 4)\n",
        "\n",
        "# Map cluster IDs to cheese names\n",
        "cluster_mapping = {}\n",
        "for i, cluster in enumerate(resulting_clusters):\n",
        "    cluster_mapping[f\"Cluster {i + 1}\"] = fromage.index[cluster].tolist()\n",
        "\n",
        "# Print the resulting clusters with cheese names\n",
        "for cluster_id, cheeses in cluster_mapping.items():\n",
        "    print(f\"{cluster_id}: {', '.join(cheeses)}\")\n"
      ],
      "metadata": {
        "colab": {
          "base_uri": "https://localhost:8080/"
        },
        "id": "lMa8qAy4Zae1",
        "outputId": "d2d0ad16-80b7-41d5-d30b-007d173d7795"
      },
      "execution_count": null,
      "outputs": [
        {
          "output_type": "stream",
          "name": "stdout",
          "text": [
            "cluster : [[0, 1, 2, 3, 4, 5, 6, 7, 8, 9, 10, 11, 12, 13, 14, 15, 16, 17, 18, 19, 20, 21, 22, 23, 24, 25, 26, 27, 28]]\n",
            "[0, 1, 2, 3, 4, 5, 6, 7, 8, 9, 10, 11, 12, 13, 14, 15, 16, 17, 18, 19, 20, 21, 22, 23, 24, 25, 26, 27, 28]\n",
            "cluster : [[0, 1, 2, 3, 4, 5, 6, 7, 8, 9, 10, 11, 12, 13, 14, 16, 17, 18, 19, 20, 21, 22, 23, 24, 25, 26, 27, 28], [15]]\n",
            "[0, 1, 2, 3, 4, 5, 6, 7, 8, 9, 10, 11, 12, 13, 14, 16, 17, 18, 19, 20, 21, 22, 23, 24, 25, 26, 27, 28]\n",
            "cluster : [[15], [0, 1, 2, 3, 4, 5, 6, 7, 8, 9, 10, 11, 12, 13, 14, 17, 18, 19, 21, 22, 23, 24, 25, 26, 27, 28], [16, 20]]\n",
            "[0, 1, 2, 3, 4, 5, 6, 7, 8, 9, 10, 11, 12, 13, 14, 17, 18, 19, 21, 22, 23, 24, 25, 26, 27, 28]\n",
            "cluster : [[15], [16, 20], [0, 1, 2, 3, 4, 5, 6, 7, 8, 9, 10, 11, 12, 13, 14, 17, 18, 19, 21, 22, 23, 24, 25, 26, 27], [28]]\n",
            "[0, 1, 2, 3, 4, 5, 6, 7, 8, 9, 10, 11, 12, 13, 14, 17, 18, 19, 21, 22, 23, 24, 25, 26, 27]\n",
            "cluster : [[15], [16, 20], [28], [0, 1, 2, 3, 4, 5, 6, 7, 8, 9, 10, 11, 13, 14, 17, 18, 19, 21, 22, 23, 24, 25, 26, 27], [12]]\n",
            "[0, 1, 2, 3, 4, 5, 6, 7, 8, 9, 10, 11, 13, 14, 17, 18, 19, 21, 22, 23, 24, 25, 26, 27]\n",
            "Cluster 1: Fr.frais20nat.\n",
            "Cluster 2: Fr.frais40nat., Petitsuisse40\n",
            "Cluster 3: Yaourtlaitent.nat.\n",
            "Cluster 4: Emmental\n",
            "Cluster 5: CarredelEst, Babybel, Beaufort, Bleu, Camembert, Cantal, Chabichou, Chaource, Cheddar, Comte, Coulomniers, Edam, Fr.fondu.45, Maroilles, Morbier, Parmesan, PontlEveque, Pyrenees, Reblochon, Rocquefort, SaintPaulin, Tome, Vacherin\n",
            "Cluster 6: Fr.chevrepatemolle\n"
          ]
        }
      ]
    }
  ]
}